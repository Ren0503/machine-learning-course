{
 "cells": [
  {
   "cell_type": "markdown",
   "id": "88763f0e",
   "metadata": {},
   "source": [
    "In Machine Learning and Data Science fields, we need to store a large amount of data so that our algorithms can access them efficiently. That's where Data Structures come into the picture. In our previous article, we learned about two important data structures in Python used in ML and Data Science, Tuples and Lists. In this article, we will cover other data structures frequently used in AI applications: **Sets** and **Dictionaries**.\n",
    "\n",
    "**Key takeaways from the blog**\n",
    "\n",
    "Afte going through this blog, we will be able to understand the following things:\n",
    "\n",
    "1. What are sets?\n",
    "2. What are the various operations that can be performed in Sets?\n",
    "3. Conversion of lists into sets.\n",
    "4. What are Dictionaries?\n",
    "5. What are the various operations that can be performed on Sets?\n",
    "6. Comparision of sets and dictionaries.\n",
    "\n",
    "So let's start with sets.\n",
    "\n",
    "## Sets in Python\n",
    "\n",
    "Sets are a collection type used to store multiple data types together. Unlike lists and tuples, sets are unordered, meaning they do not hold the positions or indexes of the elements they keep. Also, every element is unique in nature, and we can not store duplicated inside sets. We "
   ]
  },
  {
   "cell_type": "code",
   "execution_count": null,
   "id": "d1994d8d",
   "metadata": {},
   "outputs": [],
   "source": []
  }
 ],
 "metadata": {
  "kernelspec": {
   "display_name": "Python 3 (ipykernel)",
   "language": "python",
   "name": "python3"
  },
  "language_info": {
   "codemirror_mode": {
    "name": "ipython",
    "version": 3
   },
   "file_extension": ".py",
   "mimetype": "text/x-python",
   "name": "python",
   "nbconvert_exporter": "python",
   "pygments_lexer": "ipython3",
   "version": "3.10.6"
  }
 },
 "nbformat": 4,
 "nbformat_minor": 5
}
