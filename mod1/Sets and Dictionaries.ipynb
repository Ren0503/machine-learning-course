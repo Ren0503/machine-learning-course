{
 "cells": [
  {
   "cell_type": "markdown",
   "id": "88763f0e",
   "metadata": {},
   "source": [
    "In Machine Learning and Data Science fields, we need to store a large amount of data so that our algorithms can access them efficiently. That's where Data Structures come into the picture. In our previous article, we learned about two important data structures in Python used in ML and Data Science, Tuples and Lists. In this article, we will cover other data structures frequently used in AI applications: **Sets** and **Dictionaries**.\n",
    "\n",
    "**Key takeaways from the blog**\n",
    "\n",
    "Afte going through this blog, we will be able to understand the following things:\n",
    "\n",
    "1. What are sets?\n",
    "2. What are the various operations that can be performed in Sets?\n",
    "3. Conversion of lists into sets.\n",
    "4. What are Dictionaries?\n",
    "5. What are the various operations that can be performed on Sets?\n",
    "6. Comparision of sets and dictionaries.\n",
    "\n",
    "So let's start with sets.\n",
    "\n",
    "## Sets in Python\n",
    "\n",
    "Sets are a collection type used to store multiple data types together. Unlike lists and tuples, sets are unordered, meaning they do not hold the positions or indexes of the elements they keep. Also, every element is unique in nature, and we can not store duplicated inside sets. We define sets using curly brackets. Please note the example contains a duplicate."
   ]
  },
  {
   "cell_type": "code",
   "execution_count": 1,
   "id": "d1994d8d",
   "metadata": {},
   "outputs": [
    {
     "data": {
      "text/plain": [
       "{1.2, 7, 'EnjoyAlgorithms'}"
      ]
     },
     "execution_count": 1,
     "metadata": {},
     "output_type": "execute_result"
    }
   ],
   "source": [
    "a = {'EnjoyAlgorithms', 1.2, 7, 7}\n",
    "a"
   ]
  },
  {
   "cell_type": "code",
   "execution_count": 2,
   "id": "7862e891",
   "metadata": {},
   "outputs": [
    {
     "data": {
      "text/plain": [
       "set"
      ]
     },
     "execution_count": 2,
     "metadata": {},
     "output_type": "execute_result"
    }
   ],
   "source": [
    "type(a)"
   ]
  },
  {
   "cell_type": "code",
   "execution_count": 3,
   "id": "c0922735",
   "metadata": {},
   "outputs": [
    {
     "data": {
      "text/plain": [
       "{(7, 7), 1.2, 'EnjoyAlgorithms'}"
      ]
     },
     "execution_count": 3,
     "metadata": {},
     "output_type": "execute_result"
    }
   ],
   "source": [
    "a = {'EnjoyAlgorithms', 1.2, (7, 7)}\n",
    "a"
   ]
  },
  {
   "cell_type": "markdown",
   "id": "225b83be",
   "metadata": {},
   "source": [
    "When we finally print the set created, we notice that it automatically removes the duplicates. But when we place duplicates as a tuple, it stores the same form without removal as (7, 7) is treated as a single entity.\n",
    "\n",
    "**Converting lists or tuples into sets**\n",
    "\n",
    "We can convert the list or tuple data types into sets using the `set()` function. This process of converrting is known as **type casting**. Let's see using one example:"
   ]
  },
  {
   "cell_type": "code",
   "execution_count": 4,
   "id": "bd026bdb",
   "metadata": {},
   "outputs": [
    {
     "data": {
      "text/plain": [
       "{'a', 'b', 'c', 'd'}"
      ]
     },
     "execution_count": 4,
     "metadata": {},
     "output_type": "execute_result"
    }
   ],
   "source": [
    "a = ('a', 'b', 'c', 'd')\n",
    "set(a)"
   ]
  },
  {
   "cell_type": "code",
   "execution_count": 5,
   "id": "5f391783",
   "metadata": {},
   "outputs": [
    {
     "data": {
      "text/plain": [
       "{'a', 'b', 'c', 'd'}"
      ]
     },
     "execution_count": 5,
     "metadata": {},
     "output_type": "execute_result"
    }
   ],
   "source": [
    "a = ['a', 'b', 'c', 'd']\n",
    "set(a)"
   ]
  },
  {
   "cell_type": "code",
   "execution_count": 6,
   "id": "50f6eac3",
   "metadata": {},
   "outputs": [
    {
     "data": {
      "text/plain": [
       "{'a', 'b'}"
      ]
     },
     "execution_count": 6,
     "metadata": {},
     "output_type": "execute_result"
    }
   ],
   "source": [
    "a = ['a', 'a', 'b', 'b']\n",
    "set(a)"
   ]
  },
  {
   "cell_type": "markdown",
   "id": "a746e118",
   "metadata": {},
   "source": [
    "An exiting thing to note here: Lists and tuples store elements sequentially, and hence the order of storing elements matters a lot. But a set does not carry any information about the positions. Thus after conversion, we lost the information about the orders in tuples or lists. Also, in the last example, after converting a list (containing duplicates) into a set, a set kept only the unique elements. This property can be convenient sometimes.\n",
    "\n",
    "**Nesting in sets**\n",
    "\n",
    "A set cann't contain another set inside it. For example:"
   ]
  },
  {
   "cell_type": "code",
   "execution_count": 7,
   "id": "d20dfeeb",
   "metadata": {},
   "outputs": [
    {
     "ename": "TypeError",
     "evalue": "unhashable type: 'set'",
     "output_type": "error",
     "traceback": [
      "\u001b[0;31m---------------------------------------------------------------------------\u001b[0m",
      "\u001b[0;31mTypeError\u001b[0m                                 Traceback (most recent call last)",
      "Cell \u001b[0;32mIn [7], line 1\u001b[0m\n\u001b[0;32m----> 1\u001b[0m a \u001b[38;5;241m=\u001b[39m {\u001b[38;5;124m'\u001b[39m\u001b[38;5;124mEnjoyAlgorithms\u001b[39m\u001b[38;5;124m'\u001b[39m, \u001b[38;5;241m1.2\u001b[39m, (\u001b[38;5;241m7\u001b[39m, \u001b[38;5;241m7\u001b[39m), { \u001b[38;5;241m7\u001b[39m,\u001b[38;5;241m7\u001b[39m }}\n",
      "\u001b[0;31mTypeError\u001b[0m: unhashable type: 'set'"
     ]
    }
   ],
   "source": [
    "a = {'EnjoyAlgorithms', 1.2, (7, 7), { 7,7 }}"
   ]
  },
  {
   "cell_type": "markdown",
   "id": "8d8b20c9",
   "metadata": {},
   "source": [
    "**How to access elements from a set?**\n",
    "\n",
    "As we discussed, sets fo not contain information about positions, so we can not access eleements using the index values. But we cam check whether a particular element is present in a given set or not. For example:"
   ]
  },
  {
   "cell_type": "code",
   "execution_count": 8,
   "id": "bbdae5ce",
   "metadata": {},
   "outputs": [
    {
     "data": {
      "text/plain": [
       "True"
      ]
     },
     "execution_count": 8,
     "metadata": {},
     "output_type": "execute_result"
    }
   ],
   "source": [
    "a = { 'a', 'b', 'c', 'd', 'e', 'f', 'g'}\n",
    "'e' in a"
   ]
  },
  {
   "cell_type": "markdown",
   "id": "4f38eb2d",
   "metadata": {},
   "source": [
    "**How to add elements in a set?**\n",
    "\n",
    "**Single Element**: We can add elements in a given set by using the `.add` operation in the case of single elements. For example:"
   ]
  },
  {
   "cell_type": "code",
   "execution_count": 9,
   "id": "6021ac74",
   "metadata": {},
   "outputs": [
    {
     "data": {
      "text/plain": [
       "{'a', 'b', 'c', 'd', 'e'}"
      ]
     },
     "execution_count": 9,
     "metadata": {},
     "output_type": "execute_result"
    }
   ],
   "source": [
    "a = {'a', 'b', 'c', 'd'}\n",
    "a.add('e')\n",
    "a"
   ]
  },
  {
   "cell_type": "code",
   "execution_count": 10,
   "id": "5f7bcbcf",
   "metadata": {},
   "outputs": [],
   "source": [
    "a.add('c')"
   ]
  },
  {
   "cell_type": "code",
   "execution_count": 11,
   "id": "edf8a7f8",
   "metadata": {},
   "outputs": [
    {
     "data": {
      "text/plain": [
       "{'a', 'b', 'c', 'd', 'e'}"
      ]
     },
     "execution_count": 11,
     "metadata": {},
     "output_type": "execute_result"
    }
   ],
   "source": [
    "a"
   ]
  },
  {
   "cell_type": "markdown",
   "id": "10e672f3",
   "metadata": {},
   "source": [
    "**Multiple Elements**: We can add multiple elements in a given set using the `.update` operation. For example:"
   ]
  },
  {
   "cell_type": "code",
   "execution_count": 12,
   "id": "f31acdd4",
   "metadata": {},
   "outputs": [
    {
     "data": {
      "text/plain": [
       "{'a', 'b', 'c', 'd', 'e'}"
      ]
     },
     "execution_count": 12,
     "metadata": {},
     "output_type": "execute_result"
    }
   ],
   "source": [
    "a"
   ]
  },
  {
   "cell_type": "code",
   "execution_count": 13,
   "id": "ecfa459c",
   "metadata": {},
   "outputs": [
    {
     "data": {
      "text/plain": [
       "{'a', 'b', 'c', 'd', 'e', 'f', 'g'}"
      ]
     },
     "execution_count": 13,
     "metadata": {},
     "output_type": "execute_result"
    }
   ],
   "source": [
    "b = ['e', 'f', 'g']\n",
    "a.update(b)\n",
    "a"
   ]
  },
  {
   "cell_type": "markdown",
   "id": "417cc2b5",
   "metadata": {},
   "source": [
    "Now we know how to add elements inside a set. Let's also learn about the method of removing elements from a given set.\n",
    "\n",
    "**How to remove elements from a set?**\n",
    "\n",
    "To remove the element from a given set, we can use either of the two operations `.remove()` or `.discard()`."
   ]
  },
  {
   "cell_type": "code",
   "execution_count": 14,
   "id": "7a32db70",
   "metadata": {},
   "outputs": [
    {
     "data": {
      "text/plain": [
       "{7, 'EnjoyAlgorithms', 'ML'}"
      ]
     },
     "execution_count": 14,
     "metadata": {},
     "output_type": "execute_result"
    }
   ],
   "source": [
    "a = {'EnjoyAlgorithms', 1.2, 7, 'ML'}\n",
    "a.remove(1.2)\n",
    "a"
   ]
  },
  {
   "cell_type": "code",
   "execution_count": 15,
   "id": "7d216a2a",
   "metadata": {},
   "outputs": [
    {
     "data": {
      "text/plain": [
       "{7, 'EnjoyAlgorithms'}"
      ]
     },
     "execution_count": 15,
     "metadata": {},
     "output_type": "execute_result"
    }
   ],
   "source": [
    "a.discard('ML')\n",
    "a"
   ]
  },
  {
   "cell_type": "markdown",
   "id": "dea7b907",
   "metadata": {},
   "source": [
    "Please note that we can not remove multiple elements at the same time. Hence, we need to remove elements one by one for multiple items.\n",
    "\n",
    "**How to find the length of a set?**\n",
    "\n",
    "We can use the same `len()`function that we saw in the case of lists and tuples to find the length of a given set in Python."
   ]
  },
  {
   "cell_type": "code",
   "execution_count": 16,
   "id": "f5de8051",
   "metadata": {},
   "outputs": [
    {
     "data": {
      "text/plain": [
       "4"
      ]
     },
     "execution_count": 16,
     "metadata": {},
     "output_type": "execute_result"
    }
   ],
   "source": [
    "a = {'EnjoyAlgorithms', 1.2, 7, 'ML'}\n",
    "len(a)"
   ]
  },
  {
   "cell_type": "markdown",
   "id": "fccb2d5a",
   "metadata": {},
   "source": [
    "We have seen multiple things about Sets, but one of the key things that make Sets unique in Python is the support of mathematical operations. Let's quickly see how these Sets can be used to find union, intersection, or other mathematical operations.\n",
    "\n",
    "**Mathematical Operations of Sets in Python**\n",
    "\n",
    "If we are familiar with the sets in mathematics, we might know that sets can be defined using a Venn diagram or circular representation.\n",
    "\n",
    "![venn](../assets/venn.jpeg)\n",
    "\n",
    "The are a lot of important mathematical operations that can be done using Sets, like\n",
    "\n",
    "#### Union\n",
    "\n",
    "Union is an operation used to form a new set out of all individual sets containing all the unique elements inside the individual sets. In simple terms, a union consists of all elements from all the individual sets. We can use the `|` operation in Python to calculate the union. For example"
   ]
  },
  {
   "cell_type": "code",
   "execution_count": 17,
   "id": "e2609286",
   "metadata": {},
   "outputs": [
    {
     "data": {
      "text/plain": [
       "{1.2, 7, 'C++', 'EnjoyAlgorithms', 'Java', 'ML', 'Python'}"
      ]
     },
     "execution_count": 17,
     "metadata": {},
     "output_type": "execute_result"
    }
   ],
   "source": [
    "a = {'EnjoyAlgorithms', 1.2, 7, 'ML'}\n",
    "b = {'Python', 'C++', 'Java', \"EnjoyAlgorithms\"}\n",
    "a|b"
   ]
  },
  {
   "cell_type": "markdown",
   "id": "e43e1bbe",
   "metadata": {},
   "source": [
    "We can also the `.union()` operation for finding the union. The general syntax would be `set.union(set1, set2,...)`. For example:"
   ]
  },
  {
   "cell_type": "code",
   "execution_count": 18,
   "id": "5a593da0",
   "metadata": {},
   "outputs": [
    {
     "data": {
      "text/plain": [
       "{1.2, 7, 'C++', 'EnjoyAlgorithms', 'Java', 'ML', 'OOPs', 'Python', 'SS'}"
      ]
     },
     "execution_count": 18,
     "metadata": {},
     "output_type": "execute_result"
    }
   ],
   "source": [
    "a = {'EnjoyAlgorithms', 1.2, 7, 'ML'}\n",
    "b = {'Python', 'C++', 'Java', \"EnjoyAlgorithms\"}\n",
    "c = {'SS', 'OOPs'}\n",
    "d = a.union(b, c)\n",
    "d"
   ]
  },
  {
   "cell_type": "markdown",
   "id": "7ada670f",
   "metadata": {},
   "source": [
    "#### Intersection\n",
    "\n",
    "Using itersection operation, we can form a new set containing common elements from all the sets. We can use Python's `&` ampersand operator to find the intersection of sets. For example:"
   ]
  },
  {
   "cell_type": "code",
   "execution_count": 19,
   "id": "469b87e6",
   "metadata": {},
   "outputs": [
    {
     "data": {
      "text/plain": [
       "{'EnjoyAlgorithms'}"
      ]
     },
     "execution_count": 19,
     "metadata": {},
     "output_type": "execute_result"
    }
   ],
   "source": [
    "a = {'EnjoyAlgorithms', 1.2, 7, 'ML'}\n",
    "b = {'Python', 'C++', 'Java', \"EnjoyAlgorithms\"}\n",
    "\n",
    "a&b"
   ]
  },
  {
   "cell_type": "code",
   "execution_count": 20,
   "id": "84f4a488",
   "metadata": {},
   "outputs": [
    {
     "data": {
      "text/plain": [
       "{'EnjoyAlgorithms'}"
      ]
     },
     "execution_count": 20,
     "metadata": {},
     "output_type": "execute_result"
    }
   ],
   "source": [
    "a.intersection(b)"
   ]
  },
  {
   "cell_type": "code",
   "execution_count": 23,
   "id": "d2f6a172",
   "metadata": {},
   "outputs": [
    {
     "data": {
      "text/plain": [
       "set()"
      ]
     },
     "execution_count": 23,
     "metadata": {},
     "output_type": "execute_result"
    }
   ],
   "source": [
    "c = {'a', 'b'}\n",
    "a.intersection(b, c)"
   ]
  },
  {
   "cell_type": "markdown",
   "id": "cc341052",
   "metadata": {},
   "source": [
    "As we have only one element in common between sets a and b `EnjoyAlgorithms`, hence the output is `EnjoyAlgorithms`. We can also use the `.intersection()` operator to find the intersection. The general syntax would be `set.intersection(set1, set2, ...)`. If there are no common elements, it will produce an empty set, as shown in the example above.\n",
    "\n",
    "#### Set Diffrence\n",
    "\n",
    "We can also find the difference between the two sets using the `-` operator in Python. If we substract sets A and B by using A-B, the resultant would be a new set with elements unique to set A. For example:"
   ]
  },
  {
   "cell_type": "code",
   "execution_count": 24,
   "id": "3e129cd6",
   "metadata": {},
   "outputs": [
    {
     "data": {
      "text/plain": [
       "{1.2, 7, 'ML'}"
      ]
     },
     "execution_count": 24,
     "metadata": {},
     "output_type": "execute_result"
    }
   ],
   "source": [
    "a = {'EnjoyAlgorithms', 1.2, 7, 'ML'}\n",
    "b = {'Python', 'C++', 'Java', \"EnjoyAlgorithms\"}\n",
    "a-b"
   ]
  },
  {
   "cell_type": "markdown",
   "id": "f4981960",
   "metadata": {},
   "source": [
    "#### Checking if one set is a subset of other\n",
    "\n",
    "We can also check whether a given set is a subset of another set or not. A set is a subset of another set if all the elements present in the formet set can be found in the latter set. For example:"
   ]
  },
  {
   "cell_type": "code",
   "execution_count": 25,
   "id": "920f8139",
   "metadata": {},
   "outputs": [
    {
     "data": {
      "text/plain": [
       "True"
      ]
     },
     "execution_count": 25,
     "metadata": {},
     "output_type": "execute_result"
    }
   ],
   "source": [
    "a = {'ML', 'DataScience', 'RL', 'DL', 'NN'}\n",
    "b = {'DL', 'NN'}\n",
    "b.issubset(a)"
   ]
  },
  {
   "cell_type": "markdown",
   "id": "5946bd20",
   "metadata": {},
   "source": [
    "#### Copy method in set\n",
    "\n",
    "It's important to note in sets that if we assign the value of one set to a new set and then perform operations on the newer set, those opeations will also be automatically performed on the orginal set. For example:"
   ]
  },
  {
   "cell_type": "code",
   "execution_count": 26,
   "id": "5ca1b7fa",
   "metadata": {},
   "outputs": [
    {
     "data": {
      "text/plain": [
       "{'DL', 'DataScience', 'ML', 'NN'}"
      ]
     },
     "execution_count": 26,
     "metadata": {},
     "output_type": "execute_result"
    }
   ],
   "source": [
    "a = {'ML', 'DataScience', 'RL', 'DL', 'NN'}\n",
    "b = a\n",
    "b.remove('RL')\n",
    "b"
   ]
  },
  {
   "cell_type": "code",
   "execution_count": 27,
   "id": "95f7bc96",
   "metadata": {},
   "outputs": [
    {
     "data": {
      "text/plain": [
       "{'DL', 'DataScience', 'ML', 'NN'}"
      ]
     },
     "execution_count": 27,
     "metadata": {},
     "output_type": "execute_result"
    }
   ],
   "source": [
    "a"
   ]
  },
  {
   "cell_type": "markdown",
   "id": "606f228f",
   "metadata": {},
   "source": [
    "But we might be thinking about how to perform this assignment as it;s an important feature. So we need to use the `.copy()` operator to make a copy of the orginal set and then perform operation."
   ]
  },
  {
   "cell_type": "code",
   "execution_count": 28,
   "id": "139d5c6f",
   "metadata": {},
   "outputs": [
    {
     "data": {
      "text/plain": [
       "{'DL', 'DataScience', 'ML', 'NN'}"
      ]
     },
     "execution_count": 28,
     "metadata": {},
     "output_type": "execute_result"
    }
   ],
   "source": [
    "a = {'ML', 'DataScience', 'RL', 'DL', 'NN'}\n",
    "b = a.copy()\n",
    "\n",
    "b.remove('RL')\n",
    "b"
   ]
  },
  {
   "cell_type": "code",
   "execution_count": 29,
   "id": "75fa615c",
   "metadata": {},
   "outputs": [
    {
     "data": {
      "text/plain": [
       "{'DL', 'DataScience', 'ML', 'NN', 'RL'}"
      ]
     },
     "execution_count": 29,
     "metadata": {},
     "output_type": "execute_result"
    }
   ],
   "source": [
    "a"
   ]
  },
  {
   "cell_type": "markdown",
   "id": "c3e0eccf",
   "metadata": {},
   "source": [
    "#### Miscellaneous"
   ]
  },
  {
   "cell_type": "code",
   "execution_count": 33,
   "id": "6d7494bd",
   "metadata": {},
   "outputs": [
    {
     "data": {
      "text/plain": [
       "1"
      ]
     },
     "execution_count": 33,
     "metadata": {},
     "output_type": "execute_result"
    }
   ],
   "source": [
    "a = {1, 2, 3, 4, 5}\n",
    "min_a = min(a)\n",
    "min_a"
   ]
  },
  {
   "cell_type": "code",
   "execution_count": 34,
   "id": "49a878dd",
   "metadata": {},
   "outputs": [
    {
     "data": {
      "text/plain": [
       "5"
      ]
     },
     "execution_count": 34,
     "metadata": {},
     "output_type": "execute_result"
    }
   ],
   "source": [
    "max_a = max(a)\n",
    "max_a"
   ]
  },
  {
   "cell_type": "code",
   "execution_count": 35,
   "id": "87515c89",
   "metadata": {},
   "outputs": [
    {
     "data": {
      "text/plain": [
       "15"
      ]
     },
     "execution_count": 35,
     "metadata": {},
     "output_type": "execute_result"
    }
   ],
   "source": [
    "sum_a = sum(a)\n",
    "sum_a"
   ]
  },
  {
   "cell_type": "code",
   "execution_count": 36,
   "id": "d0bd8a6a",
   "metadata": {},
   "outputs": [
    {
     "data": {
      "text/plain": [
       "{3, 4, 5}"
      ]
     },
     "execution_count": 36,
     "metadata": {},
     "output_type": "execute_result"
    }
   ],
   "source": [
    "b = {3, 4, 5, 6, 7}\n",
    "a.intersection_update(b)\n",
    "a"
   ]
  },
  {
   "cell_type": "code",
   "execution_count": 37,
   "id": "71f502fa",
   "metadata": {},
   "outputs": [
    {
     "data": {
      "text/plain": [
       "{1, 2}"
      ]
     },
     "execution_count": 37,
     "metadata": {},
     "output_type": "execute_result"
    }
   ],
   "source": [
    "a = {1,2,3,4,5}\n",
    "a.difference_update(b)\n",
    "a"
   ]
  },
  {
   "cell_type": "markdown",
   "id": "169b7799",
   "metadata": {},
   "source": [
    "That's enough for the basic understanding of sets. Let's learn about our second data structure for this blog, ...Dictionaries.\n",
    "\n",
    "### Dictionaries in Python\n",
    "\n",
    "A dictionary is another type of collection in Python that stores multiple types of data types present. If we remember lists, we saw the integer indexes as addresses for the varous elements present in the list. In the same line, we have dictionaries, but instead of integer indexes, we have strings.\n",
    "\n",
    "![dictionaries](../assets/dictionaries.jpeg)\n",
    "\n",
    "To create a dictionary, we use curly brackets; likewise we did in sets. But here, we place Keys followed by a colon and then the corresponding values. The keys must be immutable and unique, whick means we can not make two keys ewith the same name. Also, the values for any key be immutable, mutable, or even duplicates. We can also store lists, tuples, or sets as the values inside the Dictionary, and the pair of keys and values would be separated by a comma `,`. For example:"
   ]
  },
  {
   "cell_type": "code",
   "execution_count": 38,
   "id": "ddca3ee7",
   "metadata": {},
   "outputs": [
    {
     "data": {
      "text/plain": [
       "dict"
      ]
     },
     "execution_count": 38,
     "metadata": {},
     "output_type": "execute_result"
    }
   ],
   "source": [
    "a = {'key1': [1,2,3], 'key2': 'EnjoyAlgorithms', 'key3':7, 'key4': {1,3,5}}\n",
    "type(a)"
   ]
  },
  {
   "cell_type": "code",
   "execution_count": 40,
   "id": "c8075bbd",
   "metadata": {},
   "outputs": [
    {
     "data": {
      "text/plain": [
       "dict"
      ]
     },
     "execution_count": 40,
     "metadata": {},
     "output_type": "execute_result"
    }
   ],
   "source": [
    "alpha = {1.2: 1.2, 7:7, 'This is awesome': 11}\n",
    "type(alpha)"
   ]
  },
  {
   "cell_type": "markdown",
   "id": "57a2354c",
   "metadata": {},
   "source": [
    "Please note that these keys can be strings, integets or floats. Let's quickly see some essential operations that can be performed on dictionaries.\n",
    "\n",
    "#### How to access elements from a dictionary in Python?\n",
    "\n",
    "We can extract an element from a dictionary using the reference for the corresponding key in square brackets. We can also use the `.get()` operator to do the same. For example:\n"
   ]
  },
  {
   "cell_type": "code",
   "execution_count": 41,
   "id": "490c0336",
   "metadata": {},
   "outputs": [
    {
     "data": {
      "text/plain": [
       "'EnjoyAlgorithms'"
      ]
     },
     "execution_count": 41,
     "metadata": {},
     "output_type": "execute_result"
    }
   ],
   "source": [
    "a = {'key1': [1,2,3], 'key2': 'EnjoyAlgorithms', 'key3':7, 'key4': {1,3,5}}\n",
    "\n",
    "a['key2']"
   ]
  },
  {
   "cell_type": "code",
   "execution_count": 42,
   "id": "10a4b69d",
   "metadata": {},
   "outputs": [
    {
     "data": {
      "text/plain": [
       "'EnjoyAlgorithms'"
      ]
     },
     "execution_count": 42,
     "metadata": {},
     "output_type": "execute_result"
    }
   ],
   "source": [
    "a.get('key2')"
   ]
  },
  {
   "cell_type": "markdown",
   "id": "30bceaf1",
   "metadata": {},
   "source": [
    "#### How to add elements in a  dictionary in Python?\n",
    "\n",
    "We can add a new *key-value* pair with just an assignment operation, `given_dict[key = value`. For example:"
   ]
  },
  {
   "cell_type": "code",
   "execution_count": 43,
   "id": "e477115d",
   "metadata": {},
   "outputs": [
    {
     "data": {
      "text/plain": [
       "{'key1': [1, 2, 3],\n",
       " 'key2': 'EnjoyAlgorithms',\n",
       " 'key3': 7,\n",
       " 'key4': {1, 3, 5},\n",
       " 'key5': (1, 2, 4)}"
      ]
     },
     "execution_count": 43,
     "metadata": {},
     "output_type": "execute_result"
    }
   ],
   "source": [
    "a = {'key1': [1,2,3], 'key2': 'EnjoyAlgorithms', 'key3':7, 'key4': {1,3,5}}\n",
    "a['key5'] = (1,2,4)\n",
    "a"
   ]
  },
  {
   "cell_type": "markdown",
   "id": "a5d1817f",
   "metadata": {},
   "source": [
    "Please note that there was no `key5` earlier, but it appeared after the assignment.\n",
    "\n",
    "#### How to change the value of a key in Python dictionary?\n",
    "\n",
    "We can assign the new value to the corresponding key. For example:"
   ]
  },
  {
   "cell_type": "code",
   "execution_count": 44,
   "id": "7d115c0e",
   "metadata": {},
   "outputs": [
    {
     "data": {
      "text/plain": [
       "{'key1': [1, 2, 3], 'key2': 'EnjoyAlgorithms', 'key3': 7, 'key4': 'ML'}"
      ]
     },
     "execution_count": 44,
     "metadata": {},
     "output_type": "execute_result"
    }
   ],
   "source": [
    "a = {'key1': [1,2,3], 'key2': 'EnjoyAlgorithms', 'key3':7, 'key4': {1,3,5}}\n",
    "a['key4'] = 'ML'\n",
    "a"
   ]
  },
  {
   "cell_type": "markdown",
   "id": "11623d3c",
   "metadata": {},
   "source": [
    "#### Can you guess how we can change any key in a dictionary?\n",
    "\n",
    "As we said, keys are immutable; hence we can not change any key in a given dictionary. For that, we need to add a new key with the new name containing the same vlaues as the older key. Later we can delete the older key.\n",
    "\n",
    "#### Removing a key or element from a python dictionary\n",
    "\n",
    "We can use the `del` operation to delete a particular key from a given dictionary. For example:"
   ]
  },
  {
   "cell_type": "code",
   "execution_count": 45,
   "id": "ecdb7ca0",
   "metadata": {},
   "outputs": [
    {
     "data": {
      "text/plain": [
       "{'key1': [1, 2, 3], 'key2': 'EnjoyAlgorithms', 'key3': 7}"
      ]
     },
     "execution_count": 45,
     "metadata": {},
     "output_type": "execute_result"
    }
   ],
   "source": [
    "a = {'key1': [1,2,3], 'key2': 'EnjoyAlgorithms', 'key3':7, 'key4': {1,3,5}}\n",
    "del a['key4']\n",
    "a"
   ]
  },
  {
   "cell_type": "markdown",
   "id": "85a76e33",
   "metadata": {},
   "source": [
    "#### Get all keys and all values of a python dictionary\n",
    "\n",
    "We can get a list of all the keys and values separatedly by using `.keys()` and `.values()` operators, respectively. For example:"
   ]
  },
  {
   "cell_type": "code",
   "execution_count": 46,
   "id": "7de6bd67",
   "metadata": {},
   "outputs": [
    {
     "data": {
      "text/plain": [
       "dict_keys(['key1', 'key2', 'key3', 'key4'])"
      ]
     },
     "execution_count": 46,
     "metadata": {},
     "output_type": "execute_result"
    }
   ],
   "source": [
    "a = {'key1': [1,2,3], 'key2': 'EnjoyAlgorithms', 'key3':7, 'key4': {1,3,5}}\n",
    "\n",
    "a.keys()"
   ]
  },
  {
   "cell_type": "code",
   "execution_count": 47,
   "id": "9a24199c",
   "metadata": {},
   "outputs": [
    {
     "data": {
      "text/plain": [
       "dict_values([[1, 2, 3], 'EnjoyAlgorithms', 7, {1, 3, 5}])"
      ]
     },
     "execution_count": 47,
     "metadata": {},
     "output_type": "execute_result"
    }
   ],
   "source": [
    "a.values()"
   ]
  },
  {
   "cell_type": "markdown",
   "id": "5d4f46f3",
   "metadata": {},
   "source": [
    "#### fromkeys method in Python dictionary\n",
    "\n",
    "The `fromkeys()` method forms a new dictionary with the default values for all the keys mentioned. If we do not define the default values, all values will be assigned to None."
   ]
  },
  {
   "cell_type": "code",
   "execution_count": 48,
   "id": "b9899af0",
   "metadata": {},
   "outputs": [
    {
     "data": {
      "text/plain": [
       "{7: 'EnjoyAlgorithms', 11: 'EnjoyAlgorithms'}"
      ]
     },
     "execution_count": 48,
     "metadata": {},
     "output_type": "execute_result"
    }
   ],
   "source": [
    "a = dict.fromkeys([7, 11], 'EnjoyAlgorithms')\n",
    "a"
   ]
  },
  {
   "cell_type": "code",
   "execution_count": 49,
   "id": "e3bcf81a",
   "metadata": {},
   "outputs": [
    {
     "data": {
      "text/plain": [
       "{7: None, 11: None}"
      ]
     },
     "execution_count": 49,
     "metadata": {},
     "output_type": "execute_result"
    }
   ],
   "source": [
    "a = dict.fromkeys([7, 11])\n",
    "a"
   ]
  },
  {
   "cell_type": "markdown",
   "id": "0571b511",
   "metadata": {},
   "source": [
    "### Nesting of python dictionaries\n",
    "\n",
    "We can store a new dictionary as a value inside a key. For example"
   ]
  },
  {
   "cell_type": "code",
   "execution_count": 50,
   "id": "47f607a5",
   "metadata": {},
   "outputs": [
    {
     "data": {
      "text/plain": [
       "list"
      ]
     },
     "execution_count": 50,
     "metadata": {},
     "output_type": "execute_result"
    }
   ],
   "source": [
    "a = {'key1': [1, 2, 3], 'key2': { 'ML': 'EnjoyAlgorithms' }}\n",
    "type(a['key1'])"
   ]
  },
  {
   "cell_type": "code",
   "execution_count": 51,
   "id": "f65e1a3b",
   "metadata": {},
   "outputs": [
    {
     "data": {
      "text/plain": [
       "dict"
      ]
     },
     "execution_count": 51,
     "metadata": {},
     "output_type": "execute_result"
    }
   ],
   "source": [
    "type(a['key2'])"
   ]
  },
  {
   "cell_type": "markdown",
   "id": "dcdbc1bf",
   "metadata": {},
   "source": [
    "## Comparison of sets and dictionaries\n",
    "\n",
    "![](../assets/compare_dic_set.jpeg)"
   ]
  },
  {
   "cell_type": "code",
   "execution_count": null,
   "id": "e0478274",
   "metadata": {},
   "outputs": [],
   "source": []
  }
 ],
 "metadata": {
  "kernelspec": {
   "display_name": "Python 3 (ipykernel)",
   "language": "python",
   "name": "python3"
  },
  "language_info": {
   "codemirror_mode": {
    "name": "ipython",
    "version": 3
   },
   "file_extension": ".py",
   "mimetype": "text/x-python",
   "name": "python",
   "nbconvert_exporter": "python",
   "pygments_lexer": "ipython3",
   "version": "3.10.6"
  }
 },
 "nbformat": 4,
 "nbformat_minor": 5
}
