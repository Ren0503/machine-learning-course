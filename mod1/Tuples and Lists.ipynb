{
 "cells": [
  {
   "cell_type": "markdown",
   "id": "3f2520f5",
   "metadata": {},
   "source": [
    "In our previous article, we discussed the popular data types in Python, including Numbers (Integer & Float), Boolean and Strings. But one question should be coming into our mind, **how to store these data types in our computeres?** We can say that variables would be an option for that but certainly not an effcient way to store a larger number of data. For example, if we store 100 float values, we will have tok make 100 variables and remember structures which is an effcient way of organizing data in our computers.\n",
    "\n",
    "In this article, we will discuss two data structures (tuples and lists) in Python frequently used in Machine Learning and Data Science. These are also called compound data types because they can store primitive data types like Strings, ints and floats.\n",
    "\n",
    "**Key takeaways from the blog**\n",
    "\n",
    "After going through this blog, we will be able to understand the following things:\n",
    "\n",
    "1. What are the tuples in Python?\n",
    "2. What are mutable and immutable data structure?\n",
    "3. What are the various operations performed on tuples?\n",
    "4. What are the lists in Python example?\n",
    "5. What are the various operations performed on tuples?\n",
    "\n",
    "### Tuples in Python\n",
    "\n",
    "Tuples are an ordered sequence of the same or mixed data types enclosed in the smaller parenthesis, \"()\".\n",
    "\n",
    "![tuples](../assets/tuples.jpeg)\n",
    "\n",
    "**Defining of Typles**\n",
    "\n",
    "We need to enclose the comma-separated values inside the small parenthesis. For example:"
   ]
  },
  {
   "cell_type": "code",
   "execution_count": 1,
   "id": "d3ee5347",
   "metadata": {},
   "outputs": [
    {
     "data": {
      "text/plain": [
       "tuple"
      ]
     },
     "execution_count": 1,
     "metadata": {},
     "output_type": "execute_result"
    }
   ],
   "source": [
    "a = ('EnjoyAlgorithms', 1.2, 7)\n",
    "type(a)"
   ]
  },
  {
   "cell_type": "code",
   "execution_count": 2,
   "id": "d7a04377",
   "metadata": {},
   "outputs": [
    {
     "data": {
      "text/plain": [
       "tuple"
      ]
     },
     "execution_count": 2,
     "metadata": {},
     "output_type": "execute_result"
    }
   ],
   "source": [
    "# We can also define an empty tuple like this\n",
    "a = ()\n",
    "type(a)"
   ]
  },
  {
   "cell_type": "markdown",
   "id": "45f222d6",
   "metadata": {},
   "source": [
    "But there are certain things that we should take care of. When we try to define a tuple with a single item, then it will store is as its native data type, not as a tuple. Still, if we want to store is as a tuple only, we need to place an additional `,`."
   ]
  },
  {
   "cell_type": "code",
   "execution_count": 3,
   "id": "e13ee32f",
   "metadata": {},
   "outputs": [
    {
     "data": {
      "text/plain": [
       "int"
      ]
     },
     "execution_count": 3,
     "metadata": {},
     "output_type": "execute_result"
    }
   ],
   "source": [
    "a = (7)\n",
    "type(a)"
   ]
  },
  {
   "cell_type": "code",
   "execution_count": 4,
   "id": "03a27c7a",
   "metadata": {},
   "outputs": [
    {
     "data": {
      "text/plain": [
       "str"
      ]
     },
     "execution_count": 4,
     "metadata": {},
     "output_type": "execute_result"
    }
   ],
   "source": [
    "a = ('EnjoyAlgorithms')\n",
    "type(a)"
   ]
  },
  {
   "cell_type": "code",
   "execution_count": 5,
   "id": "07d6db03",
   "metadata": {},
   "outputs": [
    {
     "data": {
      "text/plain": [
       "tuple"
      ]
     },
     "execution_count": 5,
     "metadata": {},
     "output_type": "execute_result"
    }
   ],
   "source": [
    "a = (7, )\n",
    "type(a)"
   ]
  },
  {
   "cell_type": "code",
   "execution_count": 6,
   "id": "3b39265d",
   "metadata": {},
   "outputs": [
    {
     "data": {
      "text/plain": [
       "tuple"
      ]
     },
     "execution_count": 6,
     "metadata": {},
     "output_type": "execute_result"
    }
   ],
   "source": [
    "# Also, if we don't want to place parenthesis, \n",
    "# then python will store values as tuples only\n",
    "a = 1, 2, 3\n",
    "type(a)"
   ]
  },
  {
   "cell_type": "markdown",
   "id": "8d6393fe",
   "metadata": {},
   "source": [
    "As per the limit of our computer's memory, a tuple can contain any number of python objects.\n",
    "\n",
    "**Access elements from a Defined Tuple**\n",
    "\n",
    "To access the elements in the tuple, we can use the name of the tuple followed by the square bracket and the index number for the element we want to access. For example, if there is a variable `tuple1 = (\"EnjoyAlgorithms\", 1.2, 7)`, we can access the first element as `tuple1[0]`, which will give the output as **EnjoyAlgorithms**. Similarly, to access the second and third element, `tuple1[1]` and `tuple1[2]` can be used, respactively. Please note that to access the last element, we use the index as the **length of tuple -1**. This is the maximum index we can use to extract the number from a typle data type. We can use the **len** function to get the length of the tuple. From the earlier example, if we try to use `tuple1[3]`, it will produce an `IndexError`."
   ]
  },
  {
   "cell_type": "code",
   "execution_count": 7,
   "id": "9d3cf934",
   "metadata": {},
   "outputs": [
    {
     "data": {
      "text/plain": [
       "7"
      ]
     },
     "execution_count": 7,
     "metadata": {},
     "output_type": "execute_result"
    }
   ],
   "source": [
    "tuple1 = ('EnjoyAlgorithms', 1.2, 7)\n",
    "tuple1[2]"
   ]
  },
  {
   "cell_type": "code",
   "execution_count": 8,
   "id": "88747c7a",
   "metadata": {},
   "outputs": [
    {
     "data": {
      "text/plain": [
       "3"
      ]
     },
     "execution_count": 8,
     "metadata": {},
     "output_type": "execute_result"
    }
   ],
   "source": [
    "len(tuple1)"
   ]
  },
  {
   "cell_type": "code",
   "execution_count": 9,
   "id": "f5f64669",
   "metadata": {},
   "outputs": [
    {
     "ename": "IndexError",
     "evalue": "tuple index out of range",
     "output_type": "error",
     "traceback": [
      "\u001b[0;31m---------------------------------------------------------------------------\u001b[0m",
      "\u001b[0;31mIndexError\u001b[0m                                Traceback (most recent call last)",
      "Cell \u001b[0;32mIn [9], line 1\u001b[0m\n\u001b[0;32m----> 1\u001b[0m \u001b[43mtuple1\u001b[49m\u001b[43m[\u001b[49m\u001b[38;5;241;43m3\u001b[39;49m\u001b[43m]\u001b[49m\n",
      "\u001b[0;31mIndexError\u001b[0m: tuple index out of range"
     ]
    }
   ],
   "source": [
    "tuple1[3]"
   ]
  },
  {
   "cell_type": "markdown",
   "id": "afab0940",
   "metadata": {},
   "source": [
    "We can also use negative indices, representing that we are reading the tuple starting from the last element. Let's consider the same example of `tuple1`, the last element can also be accessed by `tuple1[-1]`. The minimun value of the index via this method can be **(-length of tuple)**, which is -3 in our case, `tuple1[0] = tuple1[-3]`.\n",
    "\n",
    "**Accessing Elements after dixed intervals**\n",
    "\n",
    "There is one more advanced way of extraction. What if someone tells us to extract every element present at the odd indices. Please note that the indices in python start from 0, so odd indices mean 1, 3, 5, 7 and so on. We can use a double colon to access elements in this order. If `a` is a tuple, and we want to access every Kth element starting from the ith element, the we can write it as `a[i::K]`."
   ]
  },
  {
   "cell_type": "code",
   "execution_count": 10,
   "id": "0e4f911e",
   "metadata": {},
   "outputs": [
    {
     "data": {
      "text/plain": [
       "(3, 7, 8, 11, 15)"
      ]
     },
     "execution_count": 10,
     "metadata": {},
     "output_type": "execute_result"
    }
   ],
   "source": [
    "a = (0, 3, 5, 7, 9, 8, 10, 11, 12, 15, 7)\n",
    "a[1::2]"
   ]
  },
  {
   "cell_type": "markdown",
   "id": "ccb33e97",
   "metadata": {},
   "source": [
    "**Reversing the Tuple**\n",
    "\n",
    "We can easily reverse any given tuple using the same double colon technique. We need to traverse the tuple from the last using negative indices. This technique is beneficial and can be found in many places."
   ]
  },
  {
   "cell_type": "code",
   "execution_count": 11,
   "id": "c2946e90",
   "metadata": {},
   "outputs": [
    {
     "data": {
      "text/plain": [
       "(7, 15, 12, 11, 10, 8, 9, 7, 5, 3, 0)"
      ]
     },
     "execution_count": 11,
     "metadata": {},
     "output_type": "execute_result"
    }
   ],
   "source": [
    "a = (0, 3, 5, 7, 9, 8, 10, 11, 12, 15, 7)\n",
    "a[::-1]"
   ]
  },
  {
   "cell_type": "markdown",
   "id": "f63e2c5e",
   "metadata": {},
   "source": [
    "**Slicing of Tuples**\n",
    "\n",
    "It can be a possibility that the length of the tuple is high, and we don't only want single values, but the values present in between two indices. We want to extract the range of indices from a tuple. For that, we use the method of slicing. For example, in the code below, `tuple1` is our tuple, and we want to extract the elements starting from the 2nd to the 4th index, then we need to pass the cmmand as `tuple1[2:5`. Please note that we are using 2:5 to extract the elements till the 4th index, not 2:4. Because in Python, we start counting from 0, not from 1. If we want to access elements starting from the 0th index, then we have two options, `tuple1[0:5]` or `tuple1[:5]`. Similarly, if we don;t mention the second integer, it will give the slice till the last index, `tuple1[2:]`."
   ]
  },
  {
   "cell_type": "code",
   "execution_count": 12,
   "id": "f2b361b6",
   "metadata": {},
   "outputs": [
    {
     "data": {
      "text/plain": [
       "(7, 'ML', 11)"
      ]
     },
     "execution_count": 12,
     "metadata": {},
     "output_type": "execute_result"
    }
   ],
   "source": [
    "tuple1 = ('EnjoyAlgorithms', 1.2, 7, 'ML', 11, 'Data Science', 1.1)\n",
    "tuple1[2:5]"
   ]
  },
  {
   "cell_type": "code",
   "execution_count": 13,
   "id": "0034bc57",
   "metadata": {},
   "outputs": [
    {
     "data": {
      "text/plain": [
       "('EnjoyAlgorithms', 1.2, 7, 'ML', 11)"
      ]
     },
     "execution_count": 13,
     "metadata": {},
     "output_type": "execute_result"
    }
   ],
   "source": [
    "tuple1[:5]"
   ]
  },
  {
   "cell_type": "code",
   "execution_count": 14,
   "id": "2cd5b2ff",
   "metadata": {},
   "outputs": [
    {
     "data": {
      "text/plain": [
       "(7, 'ML', 11, 'Data Science', 1.1)"
      ]
     },
     "execution_count": 14,
     "metadata": {},
     "output_type": "execute_result"
    }
   ],
   "source": [
    "tuple1[2:]"
   ]
  },
  {
   "cell_type": "markdown",
   "id": "427abe2a",
   "metadata": {},
   "source": [
    "**Addtion or Concatenantion of Tuples**\n",
    "\n",
    "Concatenation means placing the data of two tuples inside a single tuple. For that, let's take an example,"
   ]
  },
  {
   "cell_type": "code",
   "execution_count": 15,
   "id": "cecf5b75",
   "metadata": {},
   "outputs": [
    {
     "data": {
      "text/plain": [
       "('EnjoyAlgorithms', 1.2, 7, 'Machine', 'learning', 101)"
      ]
     },
     "execution_count": 15,
     "metadata": {},
     "output_type": "execute_result"
    }
   ],
   "source": [
    "tuple1 = ('EnjoyAlgorithms', 1.2, 7)\n",
    "tuple2 = ('Machine', 'learning', 101)\n",
    "concatenated_tuple = tuple1 + tuple2\n",
    "concatenated_tuple"
   ]
  },
  {
   "cell_type": "markdown",
   "id": "c0712241",
   "metadata": {},
   "source": [
    "**Tuples are immutable objects**\n",
    "\n",
    "As we discussed that everything in Python is an object which contains three basic properties,\n",
    "- **Identity:** Computer memory location where that object is stored\n",
    "- **Type:** This is the data type that gets attached when we create object, like string, int, float,...\n",
    "- **Value:** This is the value stored in the object. For example, in a = 1, the variable a has a value of 1.\n",
    "\n",
    "**Mutable vs Immutable Objects in Python**\n",
    "\n",
    "Identity and Type are two properties attached to an object since its creation. The only thing that can be changed later is it value. If the data type allows us to change the value it is mutable; if not, then that data type is immutable. Immutable data type examples are integer, float, strings and tuple. Mutable data types are lists, sets and dictionaries.\n",
    "\n",
    "As we said, tuples are immutable, which means we can not change the value of any tuple. For example, if we try to change the first element of any tuple by assigning the updated value to the first element, it will throw a `TypeError`."
   ]
  },
  {
   "cell_type": "code",
   "execution_count": 16,
   "id": "adbb095c",
   "metadata": {},
   "outputs": [
    {
     "ename": "TypeError",
     "evalue": "'tuple' object does not support item assignment",
     "output_type": "error",
     "traceback": [
      "\u001b[0;31m---------------------------------------------------------------------------\u001b[0m",
      "\u001b[0;31mTypeError\u001b[0m                                 Traceback (most recent call last)",
      "Cell \u001b[0;32mIn [16], line 2\u001b[0m\n\u001b[1;32m      1\u001b[0m tuple1 \u001b[38;5;241m=\u001b[39m (\u001b[38;5;124m'\u001b[39m\u001b[38;5;124mEnjoyAlgorithms\u001b[39m\u001b[38;5;124m'\u001b[39m, \u001b[38;5;241m1.2\u001b[39m, \u001b[38;5;241m7\u001b[39m)\n\u001b[0;32m----> 2\u001b[0m \u001b[43mtuple1\u001b[49m\u001b[43m[\u001b[49m\u001b[38;5;241;43m0\u001b[39;49m\u001b[43m]\u001b[49m \u001b[38;5;241m=\u001b[39m \u001b[38;5;124m'\u001b[39m\u001b[38;5;124mML\u001b[39m\u001b[38;5;124m'\u001b[39m\n",
      "\u001b[0;31mTypeError\u001b[0m: 'tuple' object does not support item assignment"
     ]
    }
   ],
   "source": [
    "tuple1 = ('EnjoyAlgorithms', 1.2, 7)\n",
    "tuple1[0] = 'ML'"
   ]
  },
  {
   "cell_type": "markdown",
   "id": "8499b3f8",
   "metadata": {},
   "source": [
    "But we must be thinking, how to change the values then? it's an important operation! if the data type is tuple, we would need to create a new tuple with the updated values."
   ]
  },
  {
   "cell_type": "code",
   "execution_count": 17,
   "id": "e0bf2c85",
   "metadata": {},
   "outputs": [],
   "source": [
    "tuple1 = ('EnjoyAlgorithms', 1.2, 7)\n",
    "\n",
    "# if we want to change the value inside tuple, we would need to\n",
    "# create a new tuple.\n",
    "tuple2 = ('ML', 1.2, 7)"
   ]
  },
  {
   "cell_type": "markdown",
   "id": "4fe5e852",
   "metadata": {},
   "source": [
    "### Nesting of Tuples\n",
    "\n",
    "One of the exciting things about the compound data types is that they can store multiple tuples inside a tuple. If we want to access the elements in the tuple, which are stored in another tuple, we need to place the indices in subsequent square brackets. An example is shown in the image below.\n",
    "\n",
    "![nest_tuples](../assets/nesting_tuples.jpeg)\n",
    "\n",
    "We can also visualize the nesting as a tree, and when we will split the nodes, it will look something like this:\n",
    "\n",
    "![visualizing](../assets/visualization_tuple.jpeg)\n",
    "\n",
    "**Tuple are static**\n",
    "\n",
    "We can not change the values inside tuples becase of their immutable nature. If we need to change the size or accommodate more values, we need to make another tuple. Hence, we can say that tuples are static. Enough about tuples so far, now let's see something about lists.\n",
    "\n",
    "### Lists in Python\n",
    "\n",
    "Lists are another data structure in Python that stores an ordered sequence of similar or different data type python objects. If we are familiar with arrays in computer science, lists are similar to them but have a more flexible nature.\n",
    "\n",
    "**Defining of Lists**\n",
    "\n",
    "We need to enclose the comma-separated values inside the square parenthesis. For example,"
   ]
  },
  {
   "cell_type": "code",
   "execution_count": 18,
   "id": "f706aa8d",
   "metadata": {},
   "outputs": [
    {
     "data": {
      "text/plain": [
       "list"
      ]
     },
     "execution_count": 18,
     "metadata": {},
     "output_type": "execute_result"
    }
   ],
   "source": [
    "a = ['EnjoyAlgorithms', 1.2, 7]\n",
    "type(a)"
   ]
  },
  {
   "cell_type": "code",
   "execution_count": 19,
   "id": "9d130b9f",
   "metadata": {},
   "outputs": [
    {
     "data": {
      "text/plain": [
       "list"
      ]
     },
     "execution_count": 19,
     "metadata": {},
     "output_type": "execute_result"
    }
   ],
   "source": [
    "a = []\n",
    "type(a)"
   ]
  },
  {
   "cell_type": "markdown",
   "id": "47d6ce65",
   "metadata": {},
   "source": [
    "Per the limit of our computer's memory, a list can contain any number of python objects. Many of the properties and operations that can be performed on lists are similar to those we performed in tuples.\n",
    "\n",
    "**Accessing elements from a list**\n",
    "\n",
    "Same as tuples, we can give both positive and negative indices."
   ]
  },
  {
   "cell_type": "code",
   "execution_count": 20,
   "id": "1efd9729",
   "metadata": {},
   "outputs": [
    {
     "data": {
      "text/plain": [
       "7"
      ]
     },
     "execution_count": 20,
     "metadata": {},
     "output_type": "execute_result"
    }
   ],
   "source": [
    "list1 = ['EnjoyAlgorithms', 1.2, 7]\n",
    "list1[2]"
   ]
  },
  {
   "cell_type": "code",
   "execution_count": 21,
   "id": "cd72d7df",
   "metadata": {},
   "outputs": [
    {
     "data": {
      "text/plain": [
       "3"
      ]
     },
     "execution_count": 21,
     "metadata": {},
     "output_type": "execute_result"
    }
   ],
   "source": [
    "len(list1)"
   ]
  },
  {
   "cell_type": "code",
   "execution_count": 22,
   "id": "207359fe",
   "metadata": {},
   "outputs": [
    {
     "ename": "IndexError",
     "evalue": "list index out of range",
     "output_type": "error",
     "traceback": [
      "\u001b[0;31m---------------------------------------------------------------------------\u001b[0m",
      "\u001b[0;31mIndexError\u001b[0m                                Traceback (most recent call last)",
      "Cell \u001b[0;32mIn [22], line 1\u001b[0m\n\u001b[0;32m----> 1\u001b[0m \u001b[43mlist1\u001b[49m\u001b[43m[\u001b[49m\u001b[38;5;241;43m3\u001b[39;49m\u001b[43m]\u001b[49m\n",
      "\u001b[0;31mIndexError\u001b[0m: list index out of range"
     ]
    }
   ],
   "source": [
    "list1[3]"
   ]
  },
  {
   "cell_type": "markdown",
   "id": "71fafbf2",
   "metadata": {},
   "source": [
    "**Accessing Elements after fixed intervals**"
   ]
  },
  {
   "cell_type": "code",
   "execution_count": 25,
   "id": "2151ae58",
   "metadata": {},
   "outputs": [
    {
     "data": {
      "text/plain": [
       "[3, 9, 11, 7]"
      ]
     },
     "execution_count": 25,
     "metadata": {},
     "output_type": "execute_result"
    }
   ],
   "source": [
    "a = [0, 3, 5, 7, 9, 8, 10, 11, 12, 15, 7]\n",
    "a[1::3]"
   ]
  },
  {
   "cell_type": "markdown",
   "id": "9368759a",
   "metadata": {},
   "source": [
    "**Reversing the list**"
   ]
  },
  {
   "cell_type": "code",
   "execution_count": 26,
   "id": "667dc4f0",
   "metadata": {},
   "outputs": [
    {
     "data": {
      "text/plain": [
       "[7, 15, 12, 11, 10, 8, 9, 7, 5, 3, 0]"
      ]
     },
     "execution_count": 26,
     "metadata": {},
     "output_type": "execute_result"
    }
   ],
   "source": [
    "a[::-1]"
   ]
  },
  {
   "cell_type": "markdown",
   "id": "5b9d9c0b",
   "metadata": {},
   "source": [
    "**Slicing of lists**"
   ]
  },
  {
   "cell_type": "code",
   "execution_count": 27,
   "id": "37920b98",
   "metadata": {},
   "outputs": [
    {
     "data": {
      "text/plain": [
       "[7, 'ML', 11]"
      ]
     },
     "execution_count": 27,
     "metadata": {},
     "output_type": "execute_result"
    }
   ],
   "source": [
    "list1 = ['EnjoyAlgorithms', 1.2, 7, 'ML', 11, 'Data Science', 1.1]\n",
    "list1[2:5]"
   ]
  },
  {
   "cell_type": "code",
   "execution_count": 28,
   "id": "5baead25",
   "metadata": {},
   "outputs": [
    {
     "data": {
      "text/plain": [
       "['EnjoyAlgorithms', 1.2, 7, 'ML', 11]"
      ]
     },
     "execution_count": 28,
     "metadata": {},
     "output_type": "execute_result"
    }
   ],
   "source": [
    "list1[:5]"
   ]
  },
  {
   "cell_type": "code",
   "execution_count": 29,
   "id": "d05893f3",
   "metadata": {},
   "outputs": [
    {
     "data": {
      "text/plain": [
       "[7, 'ML', 11, 'Data Science', 1.1]"
      ]
     },
     "execution_count": 29,
     "metadata": {},
     "output_type": "execute_result"
    }
   ],
   "source": [
    "list1[2:]"
   ]
  },
  {
   "cell_type": "markdown",
   "id": "1641561a",
   "metadata": {},
   "source": [
    "**Addition or Concatenation of Lists**"
   ]
  },
  {
   "cell_type": "code",
   "execution_count": 30,
   "id": "4104b0ee",
   "metadata": {},
   "outputs": [
    {
     "data": {
      "text/plain": [
       "['EnjoyAlgorithms', 1.2, 7, 'Machine', 'learning', 101]"
      ]
     },
     "execution_count": 30,
     "metadata": {},
     "output_type": "execute_result"
    }
   ],
   "source": [
    "list1 = ['EnjoyAlgorithms', 1.2, 7]\n",
    "list2 = ['Machine', 'learning', 101]\n",
    "\n",
    "concatenated_list = list1 + list2\n",
    "concatenated_list"
   ]
  },
  {
   "cell_type": "markdown",
   "id": "80887ad2",
   "metadata": {},
   "source": [
    "**Lists are mutable**\n",
    "\n",
    "Unlinke tuples, we can modify the elements of the lists. This is one of the major differences between lists and tuples."
   ]
  },
  {
   "cell_type": "code",
   "execution_count": 31,
   "id": "679cbcc5",
   "metadata": {},
   "outputs": [
    {
     "data": {
      "text/plain": [
       "['ML', 1.2, 7]"
      ]
     },
     "execution_count": 31,
     "metadata": {},
     "output_type": "execute_result"
    }
   ],
   "source": [
    "list1 = ['EnjoyAlgorithms', 1.2, 7]\n",
    "list1[0] = 'ML'\n",
    "\n",
    "# If we notice, earlier in case of tuplethis was\n",
    "# giving is TypeError but now in case of lists,\n",
    "# the values got updated.\n",
    "\n",
    "list1"
   ]
  },
  {
   "cell_type": "markdown",
   "id": "56545a5f",
   "metadata": {},
   "source": [
    "Now, as the lists are mutable, we can change values inside the lists either one at a time or multiple values directly using the slicing. For example,"
   ]
  },
  {
   "cell_type": "code",
   "execution_count": 32,
   "id": "6c59d6a9",
   "metadata": {},
   "outputs": [
    {
     "data": {
      "text/plain": [
       "['EnjoyAlgorithms', 1.2, 0, 1, 2, 101]"
      ]
     },
     "execution_count": 32,
     "metadata": {},
     "output_type": "execute_result"
    }
   ],
   "source": [
    "a = ['EnjoyAlgorithms', 1.2, 7, 'Machine', 'learning', 101]\n",
    "a[2:5] = [0, 1, 2]\n",
    "a"
   ]
  },
  {
   "cell_type": "markdown",
   "id": "0dab6f06",
   "metadata": {},
   "source": [
    "**Nesting of Lists**\n",
    "\n",
    "Similar to tuples, lists can contain one or more lists inside them and they caan also be accessed via subsequent square brackets. The same **tree** representation can be used to illustrate the nesting of lists. An example accessing the elements from a nested list is shown below."
   ]
  },
  {
   "cell_type": "code",
   "execution_count": 33,
   "id": "40fb63fe",
   "metadata": {},
   "outputs": [
    {
     "data": {
      "text/plain": [
       "list"
      ]
     },
     "execution_count": 33,
     "metadata": {},
     "output_type": "execute_result"
    }
   ],
   "source": [
    "a = [['Enjoy', 1], 7, [['ML', 1], 2, 3], 'data']\n",
    "type(a)"
   ]
  },
  {
   "cell_type": "code",
   "execution_count": 34,
   "id": "45ea5529",
   "metadata": {},
   "outputs": [
    {
     "data": {
      "text/plain": [
       "[['ML', 1], 2, 3]"
      ]
     },
     "execution_count": 34,
     "metadata": {},
     "output_type": "execute_result"
    }
   ],
   "source": [
    "a[2]"
   ]
  },
  {
   "cell_type": "code",
   "execution_count": 35,
   "id": "453e0790",
   "metadata": {},
   "outputs": [
    {
     "data": {
      "text/plain": [
       "['ML', 1]"
      ]
     },
     "execution_count": 35,
     "metadata": {},
     "output_type": "execute_result"
    }
   ],
   "source": [
    "a[2][0]"
   ]
  },
  {
   "cell_type": "code",
   "execution_count": 36,
   "id": "e47685a7",
   "metadata": {},
   "outputs": [
    {
     "data": {
      "text/plain": [
       "1"
      ]
     },
     "execution_count": 36,
     "metadata": {},
     "output_type": "execute_result"
    }
   ],
   "source": [
    "a[2][0][1]"
   ]
  },
  {
   "cell_type": "markdown",
   "id": "3dd1eedf",
   "metadata": {},
   "source": [
    "### Method to Modify a list\n",
    "\n",
    "Several in-build methods in Python can be used to modify the lists. Some popular ones are:\n",
    "- **Append method:** We can add single objects at the end of the lists using the append function. "
   ]
  },
  {
   "cell_type": "code",
   "execution_count": 37,
   "id": "3c1fd648",
   "metadata": {},
   "outputs": [
    {
     "data": {
      "text/plain": [
       "['Enjoyalgorithms', 1.2, 7, 'Machine', 'learning', 101, 'Data']"
      ]
     },
     "execution_count": 37,
     "metadata": {},
     "output_type": "execute_result"
    }
   ],
   "source": [
    "a = ['Enjoyalgorithms', 1.2, 7, 'Machine', 'learning', 101]\n",
    "a.append('Data')\n",
    "a"
   ]
  },
  {
   "cell_type": "code",
   "execution_count": 38,
   "id": "5613cdb3",
   "metadata": {},
   "outputs": [],
   "source": [
    "# These functions do not return a new list,\n",
    "# instead modify the same list. If we define the new list\n",
    "# like that shown in the example below, it will be not\n",
    "# assign the values of a to b.\n",
    "b = a.append('Science')\n",
    "b"
   ]
  },
  {
   "cell_type": "code",
   "execution_count": 39,
   "id": "bd98e73f",
   "metadata": {},
   "outputs": [
    {
     "data": {
      "text/plain": [
       "['Enjoyalgorithms', 1.2, 7, 'Machine', 'learning', 101, 'Data', 'Science']"
      ]
     },
     "execution_count": 39,
     "metadata": {},
     "output_type": "execute_result"
    }
   ],
   "source": [
    "a"
   ]
  },
  {
   "cell_type": "markdown",
   "id": "b28bb262",
   "metadata": {},
   "source": [
    "Please note that the `append` method can add a single object to lists. So if we try appending multiple objects, it will treat the complete set of multiple objects as a single object and append that."
   ]
  },
  {
   "cell_type": "code",
   "execution_count": 41,
   "id": "42d78b5f",
   "metadata": {},
   "outputs": [
    {
     "data": {
      "text/plain": [
       "['Enjoyalgorithms',\n",
       " 1.2,\n",
       " 7,\n",
       " 'Machine',\n",
       " 'learning',\n",
       " 101,\n",
       " 'Data',\n",
       " 'Science',\n",
       " [...],\n",
       " ['Data', 'Science']]"
      ]
     },
     "execution_count": 41,
     "metadata": {},
     "output_type": "execute_result"
    }
   ],
   "source": [
    "b = ['Data', 'Science']\n",
    "a.append(b)\n",
    "a"
   ]
  },
  {
   "cell_type": "markdown",
   "id": "7ec7751d",
   "metadata": {},
   "source": [
    "**Extend Function: Extend Method:** As we discussed, the append method can add single objects; hence a new method got formed, extend. Using this, we can extend the original list with the new list. For example:"
   ]
  },
  {
   "cell_type": "code",
   "execution_count": 1,
   "id": "647c1375",
   "metadata": {},
   "outputs": [
    {
     "data": {
      "text/plain": [
       "['EnjoyAlgorithms', 1.2, 7, 'Machine', 'learning', 101, 'Data', 'science']"
      ]
     },
     "execution_count": 1,
     "metadata": {},
     "output_type": "execute_result"
    }
   ],
   "source": [
    "a = ['EnjoyAlgorithms', 1.2, 7, 'Machine', 'learning', 101]\n",
    "b = ['Data', 'science']\n",
    "a.extend(b)\n",
    "a"
   ]
  },
  {
   "cell_type": "markdown",
   "id": "461db16e",
   "metadata": {},
   "source": [
    "This is same as the **+** operator but chaning the list inplace. We cansay that this work as **+=** operator in codes.\n",
    "\n",
    "**Insert method:** Suppose we want to make room for a new entry at any given index. But the problem is that the index is already occupied. Here, the insert method becomes handy. For example:"
   ]
  },
  {
   "cell_type": "code",
   "execution_count": 2,
   "id": "a1c0126b",
   "metadata": {},
   "outputs": [
    {
     "data": {
      "text/plain": [
       "['EnjoyAlgorithms', 1.2, 'Data', 7, 'Machine', 'learning', 101]"
      ]
     },
     "execution_count": 2,
     "metadata": {},
     "output_type": "execute_result"
    }
   ],
   "source": [
    "a = ['EnjoyAlgorithms', 1.2, 7, 'Machine', 'learning', 101]\n",
    "a.insert(2, 'Data')\n",
    "a"
   ]
  },
  {
   "cell_type": "markdown",
   "id": "a29537f8",
   "metadata": {},
   "source": [
    "The insert method takes two arguments, the first says the index at which want to insert, and the second is the value we want to insert.\n",
    "\n",
    "**Remove method:** We have seen many methods to insert the values inside lists. We should use some method to remove elements from the list. The first method is, `.remove(object`."
   ]
  },
  {
   "cell_type": "code",
   "execution_count": 3,
   "id": "09bb7f1a",
   "metadata": {},
   "outputs": [
    {
     "data": {
      "text/plain": [
       "['Enjoyalgorithms', 1.2, 7, 'learning', 101]"
      ]
     },
     "execution_count": 3,
     "metadata": {},
     "output_type": "execute_result"
    }
   ],
   "source": [
    "a = ['Enjoyalgorithms', 1.2, 7, 'Machine', 'learning', 101]\n",
    "a.remove('Machine')\n",
    "a"
   ]
  },
  {
   "cell_type": "code",
   "execution_count": 4,
   "id": "d055fef4",
   "metadata": {},
   "outputs": [
    {
     "ename": "ValueError",
     "evalue": "list.remove(x): x not in list",
     "output_type": "error",
     "traceback": [
      "\u001b[0;31m---------------------------------------------------------------------------\u001b[0m",
      "\u001b[0;31mValueError\u001b[0m                                Traceback (most recent call last)",
      "Cell \u001b[0;32mIn [4], line 3\u001b[0m\n\u001b[1;32m      1\u001b[0m \u001b[38;5;66;03m# if we place object inside remove function that\u001b[39;00m\n\u001b[1;32m      2\u001b[0m \u001b[38;5;66;03m# does not exists inside the list, it will throw an error\u001b[39;00m\n\u001b[0;32m----> 3\u001b[0m \u001b[43ma\u001b[49m\u001b[38;5;241;43m.\u001b[39;49m\u001b[43mremove\u001b[49m\u001b[43m(\u001b[49m\u001b[38;5;124;43m'\u001b[39;49m\u001b[38;5;124;43mData\u001b[39;49m\u001b[38;5;124;43m'\u001b[39;49m\u001b[43m)\u001b[49m\n",
      "\u001b[0;31mValueError\u001b[0m: list.remove(x): x not in list"
     ]
    }
   ],
   "source": [
    "# if we place object inside remove function that\n",
    "# does not exists inside the list, it will throw an error\n",
    "a.remove('Data')"
   ]
  },
  {
   "cell_type": "markdown",
   "id": "fe68ac86",
   "metadata": {},
   "source": [
    "**Pop method:** Now, we must be thinking that what if we don;t know the exact object, but we know the location from which we want to remove the object. In such cases, the pop method helps."
   ]
  },
  {
   "cell_type": "code",
   "execution_count": 5,
   "id": "cc72f039",
   "metadata": {},
   "outputs": [
    {
     "data": {
      "text/plain": [
       "['EnjoyAlgorithms', 1.2, 7, 'Machine', 'learning']"
      ]
     },
     "execution_count": 5,
     "metadata": {},
     "output_type": "execute_result"
    }
   ],
   "source": [
    "a = ['EnjoyAlgorithms', 1.2, 7, 'Machine', 'learning', 101]\n",
    "a.pop(-1)\n",
    "a"
   ]
  },
  {
   "cell_type": "code",
   "execution_count": 6,
   "id": "21ecf24b",
   "metadata": {},
   "outputs": [
    {
     "data": {
      "text/plain": [
       "7"
      ]
     },
     "execution_count": 6,
     "metadata": {},
     "output_type": "execute_result"
    }
   ],
   "source": [
    "a.pop(2)"
   ]
  },
  {
   "cell_type": "code",
   "execution_count": 7,
   "id": "d22b81ff",
   "metadata": {},
   "outputs": [
    {
     "data": {
      "text/plain": [
       "['EnjoyAlgorithms', 1.2, 'Machine', 'learning']"
      ]
     },
     "execution_count": 7,
     "metadata": {},
     "output_type": "execute_result"
    }
   ],
   "source": [
    "a"
   ]
  },
  {
   "cell_type": "markdown",
   "id": "397448ba",
   "metadata": {},
   "source": [
    "**Lists are Dynamic**\n",
    "\n",
    "If we followed everything until here, we could sense that the lists are dynamic as they can extend to accommodate more values inside them, and they can shrink if we have fewer data samples as we do not need to make new lists for all these changes. Hence, lists are dynamic.\n",
    "\n",
    "### Hererogeneous Nesting\n",
    "\n",
    "Lists and Tuples can contain other lists or tuples inside them. A list can include one or multiple tuples and vice-versa. For example:"
   ]
  },
  {
   "cell_type": "code",
   "execution_count": 8,
   "id": "d7914dab",
   "metadata": {},
   "outputs": [
    {
     "data": {
      "text/plain": [
       "list"
      ]
     },
     "execution_count": 8,
     "metadata": {},
     "output_type": "execute_result"
    }
   ],
   "source": [
    "a = ['EnjoyAlgorithms', ('Data', 'Structures'), ('Machine', 'Learning')]\n",
    "type(a)"
   ]
  },
  {
   "cell_type": "code",
   "execution_count": 9,
   "id": "200eaa51",
   "metadata": {},
   "outputs": [
    {
     "data": {
      "text/plain": [
       "tuple"
      ]
     },
     "execution_count": 9,
     "metadata": {},
     "output_type": "execute_result"
    }
   ],
   "source": [
    "a = ('EnjoyAlgorithms', ('Data', 'Structure'), ['Machine', 'Learning'])\n",
    "type(a)"
   ]
  },
  {
   "cell_type": "markdown",
   "id": "88c2476d",
   "metadata": {},
   "source": [
    "### Size comparison of lists and tuples\n",
    "\n",
    "Tuples are more memory efficient when compared to lists for storing the same information. Let's compare the memory required to store the same information. For that, we can use `__sizeof__()` function supported by both the data structures."
   ]
  },
  {
   "cell_type": "code",
   "execution_count": 10,
   "id": "62ec1414",
   "metadata": {},
   "outputs": [
    {
     "data": {
      "text/plain": [
       "list"
      ]
     },
     "execution_count": 10,
     "metadata": {},
     "output_type": "execute_result"
    }
   ],
   "source": [
    "a = ['EnjoyAlgorithms', 1.2, 7, 'Machine', 'learning', 101]\n",
    "type(a)"
   ]
  },
  {
   "cell_type": "code",
   "execution_count": 11,
   "id": "b1f524cb",
   "metadata": {},
   "outputs": [
    {
     "data": {
      "text/plain": [
       "tuple"
      ]
     },
     "execution_count": 11,
     "metadata": {},
     "output_type": "execute_result"
    }
   ],
   "source": [
    "b = ('Enjoyalgorithms', 1.2, 7, 'Machine', 'learning', 101)\n",
    "type(b)"
   ]
  },
  {
   "cell_type": "code",
   "execution_count": 12,
   "id": "c644a8fb",
   "metadata": {},
   "outputs": [
    {
     "name": "stdout",
     "output_type": "stream",
     "text": [
      "a= 88\n"
     ]
    }
   ],
   "source": [
    "print('a=', a.__sizeof__())"
   ]
  },
  {
   "cell_type": "code",
   "execution_count": 13,
   "id": "91b56ed0",
   "metadata": {},
   "outputs": [
    {
     "name": "stdout",
     "output_type": "stream",
     "text": [
      "b= 72\n"
     ]
    }
   ],
   "source": [
    "print('b=', b.__sizeof__())"
   ]
  },
  {
   "cell_type": "markdown",
   "id": "30ac9f39",
   "metadata": {},
   "source": [
    "### Overall comparison between tuples and lists in Python\n",
    "\n",
    "![](../assets/comparision.jpeg)"
   ]
  },
  {
   "cell_type": "code",
   "execution_count": null,
   "id": "c5dd08b3",
   "metadata": {},
   "outputs": [],
   "source": []
  }
 ],
 "metadata": {
  "kernelspec": {
   "display_name": "Python 3 (ipykernel)",
   "language": "python",
   "name": "python3"
  },
  "language_info": {
   "codemirror_mode": {
    "name": "ipython",
    "version": 3
   },
   "file_extension": ".py",
   "mimetype": "text/x-python",
   "name": "python",
   "nbconvert_exporter": "python",
   "pygments_lexer": "ipython3",
   "version": "3.10.6"
  }
 },
 "nbformat": 4,
 "nbformat_minor": 5
}
