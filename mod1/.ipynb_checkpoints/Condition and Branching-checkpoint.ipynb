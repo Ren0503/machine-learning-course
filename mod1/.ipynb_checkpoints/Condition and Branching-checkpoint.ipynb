{
 "cells": [
  {
   "cell_type": "markdown",
   "id": "618076ec",
   "metadata": {},
   "source": [
    "A computer program is a set of sequetial instructions we want our computers to perform. To make theses programs useful and correlate with the human world, we need the help of conditions and branching. Here a specific set of instructions get executed when they meet specified conditions. For example, in the real world, we dance when there is music. So the presence of music is a condition; when this is true, people will dance.\n",
    "\n",
    "Similarly, for our computer programs, we sometimes need to execute specific instructions only when some conditions will be true. If not, then we will perform a different set of instructions. This is known as branching. In this article, we will discuss these two concepts in Python, which makes our Machine Learning and Data Science programs worthwhile.\n",
    "\n",
    "#### Key takeaways from the blog\n",
    "\n",
    "After going through this blog, we will be able to understand the following things:\n",
    "1. What are the various comparison operations in Python?\n",
    "2. What are the conditions in Python?\n",
    "3. What is branching in Python?\n",
    "4. What are logical operations?\n",
    "5. how do we use logical operations to combine the two conditions?\n",
    "\n",
    "Let's start our journey of covering the basics about the condition and branching with understanding the comparison operations.\n",
    "\n",
    "### Comparison Operations in Python\n",
    "\n",
    "We compare the values or operands in comparison operation and produce a boolean data type in Python. It's similar to what all other programming languages offer.\n",
    "\n",
    "#### Equality\n",
    "\n",
    "We use a double eual operator to compare the equality of an operand or a value. For example:"
   ]
  },
  {
   "cell_type": "code",
   "execution_count": 1,
   "id": "8e564aeb",
   "metadata": {},
   "outputs": [
    {
     "data": {
      "text/plain": [
       "False"
      ]
     },
     "execution_count": 1,
     "metadata": {},
     "output_type": "execute_result"
    }
   ],
   "source": [
    "# Assigning operand \"alpha\" a value of 7\n",
    "alpha = 7\n",
    "\n",
    "# Now we want to check whether the value of alpha is 6 or not\n",
    "alpha == 6"
   ]
  },
  {
   "cell_type": "code",
   "execution_count": 2,
   "id": "addfef98",
   "metadata": {},
   "outputs": [
    {
     "data": {
      "text/plain": [
       "True"
      ]
     },
     "execution_count": 2,
     "metadata": {},
     "output_type": "execute_result"
    }
   ],
   "source": [
    "# As we can see that it produces a boolean result stating\n",
    "# that the value of alpha is not equal to 6\n",
    "alpha == 7"
   ]
  },
  {
   "cell_type": "markdown",
   "id": "9d719547",
   "metadata": {},
   "source": [
    "This equality comparison is not limted to intefers only. We can also compare strings, floats, lists, tuples, dictionaries, sets or other data types. For example:"
   ]
  },
  {
   "cell_type": "code",
   "execution_count": 4,
   "id": "fb5c292b",
   "metadata": {},
   "outputs": [
    {
     "data": {
      "text/plain": [
       "False"
      ]
     },
     "execution_count": 4,
     "metadata": {},
     "output_type": "execute_result"
    }
   ],
   "source": [
    "'EnjoyAlgorithms' == 'Enjoyalgorithms'"
   ]
  },
  {
   "cell_type": "code",
   "execution_count": 5,
   "id": "5f02a060",
   "metadata": {},
   "outputs": [
    {
     "data": {
      "text/plain": [
       "False"
      ]
     },
     "execution_count": 5,
     "metadata": {},
     "output_type": "execute_result"
    }
   ],
   "source": [
    "# Be cause left side we have \"A\" in upper caps and in \n",
    "# right side, it is in lower caps\n",
    "\n",
    "a = [1, 2, 4, 3]\n",
    "b = [1, 3, 4, 2]\n",
    "a == b"
   ]
  },
  {
   "cell_type": "code",
   "execution_count": 6,
   "id": "0b057cc2",
   "metadata": {},
   "outputs": [
    {
     "data": {
      "text/plain": [
       "True"
      ]
     },
     "execution_count": 6,
     "metadata": {},
     "output_type": "execute_result"
    }
   ],
   "source": [
    "c = [1, 2, 4, 3]\n",
    "a == c"
   ]
  },
  {
   "cell_type": "code",
   "execution_count": 7,
   "id": "824525de",
   "metadata": {},
   "outputs": [
    {
     "data": {
      "text/plain": [
       "True"
      ]
     },
     "execution_count": 7,
     "metadata": {},
     "output_type": "execute_result"
    }
   ],
   "source": [
    "a = {1, 2, 3, 4}\n",
    "b = {3, 4, 1, 2}\n",
    "a == b"
   ]
  },
  {
   "cell_type": "markdown",
   "id": "fde2a301",
   "metadata": {},
   "source": [
    "#### Inequality\n",
    "\n",
    "We not only compare equality but inequalitites as well. Let's say we want to check if an operand or a value is greater than or less than a given value. For example, in the image below, we want to compare the values in a list. Please notice the four different operators for a given operand.\n",
    "\n",
    "- **Greater than (>):** It does not include the current value of the operand.\n",
    "- **Greater than or equal to (>=):** In includes the current value of the operand.\n",
    "- **Lesser than (<):** It does not include the current value of the operand.\n",
    "- **Lesser than or equal to (<=):** It includes the current value of the operand.\n",
    "\n",
    "![](../assets/inequality.png)\n",
    "\n",
    "So if we are checking whether the value of the operand is greater than seven and the value of the operand is equal to 5, then the statemenet will generate a False boolean. For example:"
   ]
  },
  {
   "cell_type": "code",
   "execution_count": 8,
   "id": "0f65f636",
   "metadata": {},
   "outputs": [
    {
     "data": {
      "text/plain": [
       "False"
      ]
     },
     "execution_count": 8,
     "metadata": {},
     "output_type": "execute_result"
    }
   ],
   "source": [
    "a = 7\n",
    "a > 7"
   ]
  },
  {
   "cell_type": "code",
   "execution_count": 9,
   "id": "3d339d0d",
   "metadata": {},
   "outputs": [
    {
     "data": {
      "text/plain": [
       "True"
      ]
     },
     "execution_count": 9,
     "metadata": {},
     "output_type": "execute_result"
    }
   ],
   "source": [
    "a >= 7"
   ]
  },
  {
   "cell_type": "markdown",
   "id": "ff0fa2c0",
   "metadata": {},
   "source": [
    "To just check whether two numbers are not equal, we can place one exclamation `!` operator ahead of an equal operator like `!=`."
   ]
  },
  {
   "cell_type": "code",
   "execution_count": 10,
   "id": "11401bbf",
   "metadata": {},
   "outputs": [
    {
     "data": {
      "text/plain": [
       "True"
      ]
     },
     "execution_count": 10,
     "metadata": {},
     "output_type": "execute_result"
    }
   ],
   "source": [
    "7 != 11"
   ]
  },
  {
   "cell_type": "code",
   "execution_count": 11,
   "id": "fb6a3c60",
   "metadata": {},
   "outputs": [
    {
     "data": {
      "text/plain": [
       "True"
      ]
     },
     "execution_count": 11,
     "metadata": {},
     "output_type": "execute_result"
    }
   ],
   "source": [
    "a = 7\n",
    "a != 5"
   ]
  },
  {
   "cell_type": "code",
   "execution_count": 12,
   "id": "f91cb945",
   "metadata": {},
   "outputs": [
    {
     "data": {
      "text/plain": [
       "False"
      ]
     },
     "execution_count": 12,
     "metadata": {},
     "output_type": "execute_result"
    }
   ],
   "source": [
    "a != 7"
   ]
  },
  {
   "cell_type": "code",
   "execution_count": 13,
   "id": "fe688edd",
   "metadata": {},
   "outputs": [
    {
     "data": {
      "text/plain": [
       "True"
      ]
     },
     "execution_count": 13,
     "metadata": {},
     "output_type": "execute_result"
    }
   ],
   "source": [
    "\"Alpha\" != \"alpha\""
   ]
  },
  {
   "cell_type": "markdown",
   "id": "7afb5f51",
   "metadata": {},
   "source": [
    "Now we know the methods to compare, we can form various conditions based on these boolean values. So let's understand it in more detail.\n",
    "\n",
    "### Conditions in python programming\n",
    "\n",
    "As we know, our programs are a set of sequential instructions that we want our computers to operate. Among those instructions, we want to set some conditions, like if that condition is fullfilled, then only execute specific instructions. These conditions are statements base on comparison operations and act as a gate for some instructions."
   ]
  }
 ],
 "metadata": {
  "kernelspec": {
   "display_name": "Python 3 (ipykernel)",
   "language": "python",
   "name": "python3"
  },
  "language_info": {
   "codemirror_mode": {
    "name": "ipython",
    "version": 3
   },
   "file_extension": ".py",
   "mimetype": "text/x-python",
   "name": "python",
   "nbconvert_exporter": "python",
   "pygments_lexer": "ipython3",
   "version": "3.10.6"
  }
 },
 "nbformat": 4,
 "nbformat_minor": 5
}
