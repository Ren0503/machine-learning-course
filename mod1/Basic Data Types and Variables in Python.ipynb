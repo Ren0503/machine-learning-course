{
 "cells": [
  {
   "cell_type": "markdown",
   "id": "d2e0f03c",
   "metadata": {},
   "source": [
    "In the initial stage of learning Data Science and Machine Learning, the first question that comes to our mind is, Which programming language should I know as a Data Scientist? or What's the best programming language for machine learning? The Internet is flooded with these questions. But frankly, there is nothing like the \"best programming language\" in any computer science field. it all depends upon the task that we are targeting. But considering the tasks in the Machine Learning and Data Science domain, Python is the preferred programming language. But have we ever thought why?\n",
    "\n",
    "The reason is that a larger community in these domains prefers Python over all other languages. We can easily find the solutions to various road blockerrs while developing machine learning solutions.\n",
    "\n",
    "**Key takeaways from this blog**\n",
    "\n",
    "After going through this blog, we will be able to understand the following things:\n",
    "1. What is Python?\n",
    "2. What are the various data types in python?\n",
    "3. What are expressions and variables in python?\n",
    "4. What is string, and what operations can we perform on strings?\n",
    "\n",
    "Let's start our journey towards knowing the fundamental concepts of Python.\n",
    "\n",
    "## What is Python?\n",
    "\n",
    "Python is an object-oriented high-level computer programming language that works across multiple platforms like Window, Linux, Mac or even in raspberry-pi devices. This languges was developed in the 1980s and first released in 1991. In can be used for various task, mainly\n",
    "- AI Development\n",
    "- Software development\n",
    "- Web Development\n",
    "- System scripting\n",
    "\n",
    "Our article will mainly focus on the basics required for developing machine learning and data science applications.\n",
    "\n",
    "## What are the data types in Python?\n",
    "\n",
    "In Python, data types are classes, and every value belong to any particular data type. In this language, everything is an object. Objects of the data type classes are known as variables. Some popular data types in Python are:\n",
    "\n",
    "### Python Numbers\n",
    "\n",
    "There are three forms of data types in the category of python numbers: integers, floating numbers and complex numbers. In Python 2.x, there is another data type named **long** to store longer integer values, but this has been removed from Python 3.x.\n",
    "\n",
    "**Integers**\n",
    "\n",
    "The first data type is integer and is represented using **int**. In Python 3.x, we don't have any upper limit on the values of integers. It dependd upon our system's memory. The more the system's memory, the higher the integer value can go. We can use inbuild Python functions `type()` of `isintance()` to know about the data type of any value or variable."
   ]
  },
  {
   "cell_type": "code",
   "execution_count": 1,
   "id": "f84e2f5c",
   "metadata": {},
   "outputs": [
    {
     "data": {
      "text/plain": [
       "int"
      ]
     },
     "execution_count": 1,
     "metadata": {},
     "output_type": "execute_result"
    }
   ],
   "source": [
    "a = 10\n",
    "type(a)"
   ]
  },
  {
   "cell_type": "code",
   "execution_count": 2,
   "id": "b72d7ce3",
   "metadata": {},
   "outputs": [
    {
     "data": {
      "text/plain": [
       "int"
      ]
     },
     "execution_count": 2,
     "metadata": {},
     "output_type": "execute_result"
    }
   ],
   "source": [
    "type(10)"
   ]
  },
  {
   "cell_type": "code",
   "execution_count": 3,
   "id": "66480d58",
   "metadata": {},
   "outputs": [
    {
     "data": {
      "text/plain": [
       "True"
      ]
     },
     "execution_count": 3,
     "metadata": {},
     "output_type": "execute_result"
    }
   ],
   "source": [
    "isinstance(10, int)"
   ]
  },
  {
   "cell_type": "code",
   "execution_count": 5,
   "id": "843d8afa",
   "metadata": {},
   "outputs": [
    {
     "data": {
      "text/plain": [
       "False"
      ]
     },
     "execution_count": 5,
     "metadata": {},
     "output_type": "execute_result"
    }
   ],
   "source": [
    "isinstance(7.11, int)"
   ]
  },
  {
   "cell_type": "markdown",
   "id": "89c9d580",
   "metadata": {},
   "source": [
    "The `isinstance` function is used to chech whether any value or variable is an integer or not and accordingly throws output as True or False.\n",
    "\n",
    "**Floating Numbers**\n",
    "\n",
    "We represent floating-point numbers as **float** and the difference between float and int is that float can take values between two integers. Decimal points are used as a characteristic to identify float values. Scientific notations can also be used if the number of digits appearing after the decimal is very high. The character **e** or **E** followed by any positive or negative integer is used to specify the scientific notation."
   ]
  },
  {
   "cell_type": "code",
   "execution_count": 6,
   "id": "69dcbe71",
   "metadata": {},
   "outputs": [],
   "source": [
    "a = 10.0 "
   ]
  },
  {
   "cell_type": "code",
   "execution_count": 7,
   "id": "eecaf1fa",
   "metadata": {},
   "outputs": [
    {
     "data": {
      "text/plain": [
       "float"
      ]
     },
     "execution_count": 7,
     "metadata": {},
     "output_type": "execute_result"
    }
   ],
   "source": [
    "type(a)"
   ]
  },
  {
   "cell_type": "code",
   "execution_count": 8,
   "id": "24d77a62",
   "metadata": {},
   "outputs": [],
   "source": [
    "b = 7.11"
   ]
  },
  {
   "cell_type": "code",
   "execution_count": 9,
   "id": "1a575f8f",
   "metadata": {},
   "outputs": [
    {
     "data": {
      "text/plain": [
       "float"
      ]
     },
     "execution_count": 9,
     "metadata": {},
     "output_type": "execute_result"
    }
   ],
   "source": [
    "type (b)"
   ]
  },
  {
   "cell_type": "code",
   "execution_count": 10,
   "id": "b7271992",
   "metadata": {},
   "outputs": [
    {
     "data": {
      "text/plain": [
       "True"
      ]
     },
     "execution_count": 10,
     "metadata": {},
     "output_type": "execute_result"
    }
   ],
   "source": [
    "isinstance(a, float)"
   ]
  },
  {
   "cell_type": "code",
   "execution_count": 11,
   "id": "9517077a",
   "metadata": {},
   "outputs": [
    {
     "data": {
      "text/plain": [
       "False"
      ]
     },
     "execution_count": 11,
     "metadata": {},
     "output_type": "execute_result"
    }
   ],
   "source": [
    "isinstance(a, int)"
   ]
  },
  {
   "cell_type": "code",
   "execution_count": 12,
   "id": "a38eec62",
   "metadata": {},
   "outputs": [
    {
     "data": {
      "text/plain": [
       "711000000000.0"
      ]
     },
     "execution_count": 12,
     "metadata": {},
     "output_type": "execute_result"
    }
   ],
   "source": [
    "### Scientific Notation example\n",
    "7.11e11"
   ]
  },
  {
   "cell_type": "markdown",
   "id": "e7da536f",
   "metadata": {},
   "source": [
    "The maximum value for any floating-point number can be approximately 1.8 x 10^308. Python treats numbers beyond that as infinity."
   ]
  },
  {
   "cell_type": "code",
   "execution_count": 13,
   "id": "34f13e7e",
   "metadata": {},
   "outputs": [
    {
     "data": {
      "text/plain": [
       "1.79e+308"
      ]
     },
     "execution_count": 13,
     "metadata": {},
     "output_type": "execute_result"
    }
   ],
   "source": [
    "1.79e308"
   ]
  },
  {
   "cell_type": "code",
   "execution_count": 14,
   "id": "88a20ff1",
   "metadata": {},
   "outputs": [
    {
     "data": {
      "text/plain": [
       "inf"
      ]
     },
     "execution_count": 14,
     "metadata": {},
     "output_type": "execute_result"
    }
   ],
   "source": [
    "1.8e308"
   ]
  },
  {
   "cell_type": "markdown",
   "id": "cfedf71d",
   "metadata": {},
   "source": [
    "**Complex Numbers**\n",
    "\n",
    "Complex numbers are represented using their real component and the imaginary component aloong with the letter **j**."
   ]
  },
  {
   "cell_type": "code",
   "execution_count": 15,
   "id": "f2f9dc05",
   "metadata": {},
   "outputs": [
    {
     "data": {
      "text/plain": [
       "complex"
      ]
     },
     "execution_count": 15,
     "metadata": {},
     "output_type": "execute_result"
    }
   ],
   "source": [
    "a = 7 + 11j\n",
    "type(a)"
   ]
  },
  {
   "cell_type": "markdown",
   "id": "4d3cc996",
   "metadata": {},
   "source": [
    "### String\n",
    "\n",
    "In Python, we represent a sequence of characters as strings, denoted by `str`. Boundaries of any string data type are defined by either a single quote or a double quote."
   ]
  },
  {
   "cell_type": "code",
   "execution_count": 16,
   "id": "1876422c",
   "metadata": {},
   "outputs": [],
   "source": [
    "a ='Single quote string'\n",
    "b =\"Double quote string\""
   ]
  },
  {
   "cell_type": "code",
   "execution_count": 17,
   "id": "77ccc772",
   "metadata": {},
   "outputs": [
    {
     "data": {
      "text/plain": [
       "str"
      ]
     },
     "execution_count": 17,
     "metadata": {},
     "output_type": "execute_result"
    }
   ],
   "source": [
    "type(a)"
   ]
  },
  {
   "cell_type": "code",
   "execution_count": 18,
   "id": "a0720284",
   "metadata": {},
   "outputs": [
    {
     "data": {
      "text/plain": [
       "str"
      ]
     },
     "execution_count": 18,
     "metadata": {},
     "output_type": "execute_result"
    }
   ],
   "source": [
    "type(b)"
   ]
  },
  {
   "cell_type": "markdown",
   "id": "7a8d77c2",
   "metadata": {},
   "source": [
    "Depending on our system's memory, we can store as many characters in strings. It can be empty as well. To represent an empty string,"
   ]
  },
  {
   "cell_type": "code",
   "execution_count": 19,
   "id": "c07f0734",
   "metadata": {},
   "outputs": [
    {
     "data": {
      "text/plain": [
       "''"
      ]
     },
     "execution_count": 19,
     "metadata": {},
     "output_type": "execute_result"
    }
   ],
   "source": [
    "''"
   ]
  },
  {
   "cell_type": "markdown",
   "id": "c19999c2",
   "metadata": {},
   "source": [
    "But what if we have a single quote present as a character?"
   ]
  },
  {
   "cell_type": "code",
   "execution_count": 20,
   "id": "80fbdd19",
   "metadata": {},
   "outputs": [
    {
     "ename": "SyntaxError",
     "evalue": "unterminated string literal (detected at line 1) (4027487587.py, line 1)",
     "output_type": "error",
     "traceback": [
      "\u001b[0;36m  Cell \u001b[0;32mIn [20], line 1\u001b[0;36m\u001b[0m\n\u001b[0;31m    'We represent a single quote using' as as character'\u001b[0m\n\u001b[0m                                                       ^\u001b[0m\n\u001b[0;31mSyntaxError\u001b[0m\u001b[0;31m:\u001b[0m unterminated string literal (detected at line 1)\n"
     ]
    }
   ],
   "source": [
    "'We represent a single quote using' as as character'"
   ]
  },
  {
   "cell_type": "markdown",
   "id": "ff41f2f1",
   "metadata": {},
   "source": [
    "As shown, it will produce a syntax error as the opening single quote got paired with a closing single quote (present before the *as* word), and the characters beyond that do not have any opening single quote. To avoid these errors, we have two fixes for that:\n",
    "- If the singl quote is present as the characters, use double quotes to defined the boundaries."
   ]
  },
  {
   "cell_type": "code",
   "execution_count": 21,
   "id": "be97cb2c",
   "metadata": {},
   "outputs": [
    {
     "data": {
      "text/plain": [
       "\"We represent a single quote using ' as a character\""
      ]
     },
     "execution_count": 21,
     "metadata": {},
     "output_type": "execute_result"
    }
   ],
   "source": [
    "\"We represent a single quote using ' as a character\""
   ]
  },
  {
   "cell_type": "markdown",
   "id": "559c0bda",
   "metadata": {},
   "source": [
    "- Use **Escape sequences** in strings.\n",
    "\n",
    "Placing a backslash in front of the quote character makes Python treat it as a normal character and forget its spcecial meaning. There are serval other examples as well, where the escape sequence changes the behavior of the normal/spacial characters in the strings, like"
   ]
  },
  {
   "cell_type": "code",
   "execution_count": 22,
   "id": "61767094",
   "metadata": {},
   "outputs": [
    {
     "name": "stdout",
     "output_type": "stream",
     "text": [
      "anb\n"
     ]
    }
   ],
   "source": [
    "print(\"anb\")"
   ]
  },
  {
   "cell_type": "code",
   "execution_count": 23,
   "id": "deca99aa",
   "metadata": {},
   "outputs": [
    {
     "name": "stdout",
     "output_type": "stream",
     "text": [
      "a\n",
      "b\n"
     ]
    }
   ],
   "source": [
    "# Placing backslash before n, make it a newlin character\n",
    "print(\"a\\nb\")"
   ]
  },
  {
   "cell_type": "code",
   "execution_count": 24,
   "id": "a2ec2159",
   "metadata": {},
   "outputs": [
    {
     "name": "stdout",
     "output_type": "stream",
     "text": [
      "a\tb\n"
     ]
    }
   ],
   "source": [
    "# Placing backslash before t, makes it a tab character\n",
    "print(\"a\\tb\")"
   ]
  },
  {
   "cell_type": "code",
   "execution_count": 25,
   "id": "53510815",
   "metadata": {},
   "outputs": [
    {
     "name": "stdout",
     "output_type": "stream",
     "text": [
      "a\\nb\n"
     ]
    }
   ],
   "source": [
    "# Placing backslash before backslash removes the \n",
    "# spcial meaning of backslash\n",
    "print(\"a\\\\nb\")"
   ]
  },
  {
   "cell_type": "markdown",
   "id": "20d4fd10",
   "metadata": {},
   "source": [
    "### Boolean\n",
    "\n",
    "In Python 3, we have a boolean data type that can take either of the two values, True (with captial T) or False (with captial F). We can check the type of the variables as:"
   ]
  },
  {
   "cell_type": "code",
   "execution_count": 26,
   "id": "f9acad2c",
   "metadata": {},
   "outputs": [
    {
     "data": {
      "text/plain": [
       "bool"
      ]
     },
     "execution_count": 26,
     "metadata": {},
     "output_type": "execute_result"
    }
   ],
   "source": [
    "type(True)"
   ]
  },
  {
   "cell_type": "markdown",
   "id": "1ac3c1c9",
   "metadata": {},
   "source": [
    "This data type is used to check the truth of any statement. In Python, we use single *=* to assign value to the variable and double *==* to check the statement's validity."
   ]
  },
  {
   "cell_type": "code",
   "execution_count": 27,
   "id": "5d1ecc3e",
   "metadata": {},
   "outputs": [
    {
     "data": {
      "text/plain": [
       "True"
      ]
     },
     "execution_count": 27,
     "metadata": {},
     "output_type": "execute_result"
    }
   ],
   "source": [
    "a = 5\n",
    "a == 5"
   ]
  },
  {
   "cell_type": "markdown",
   "id": "38104e87",
   "metadata": {},
   "source": [
    "### Converting Data Types\n",
    "\n",
    "In Python, we have the flexibility to change the datatype of values or variables, but only when the conversion is valid. "
   ]
  },
  {
   "cell_type": "code",
   "execution_count": 28,
   "id": "c7e8078f",
   "metadata": {},
   "outputs": [
    {
     "data": {
      "text/plain": [
       "int"
      ]
     },
     "execution_count": 28,
     "metadata": {},
     "output_type": "execute_result"
    }
   ],
   "source": [
    "# Float to int conversion\n",
    "a = int(2.0)\n",
    "type(a)"
   ]
  },
  {
   "cell_type": "code",
   "execution_count": 29,
   "id": "f69a5824",
   "metadata": {},
   "outputs": [
    {
     "data": {
      "text/plain": [
       "float"
      ]
     },
     "execution_count": 29,
     "metadata": {},
     "output_type": "execute_result"
    }
   ],
   "source": [
    "a = float(2)\n",
    "type(a)"
   ]
  },
  {
   "cell_type": "code",
   "execution_count": 30,
   "id": "e3702c94",
   "metadata": {},
   "outputs": [
    {
     "data": {
      "text/plain": [
       "7"
      ]
     },
     "execution_count": 30,
     "metadata": {},
     "output_type": "execute_result"
    }
   ],
   "source": [
    "# Float to int conversion \n",
    "a = int(7.11)\n",
    "a"
   ]
  },
  {
   "cell_type": "markdown",
   "id": "59781469",
   "metadata": {},
   "source": [
    "If we note the second example of float to int conversion where we used `int(7.11)`, it just applied the greatest integer function on the float value. The answer would be the same even when the value is 7.9. These conversions are also possible in the case of strings but only when strings have numbers present in them."
   ]
  },
  {
   "cell_type": "code",
   "execution_count": 31,
   "id": "d30db45f",
   "metadata": {},
   "outputs": [
    {
     "data": {
      "text/plain": [
       "str"
      ]
     },
     "execution_count": 31,
     "metadata": {},
     "output_type": "execute_result"
    }
   ],
   "source": [
    "a = '2022'\n",
    "type(a)"
   ]
  },
  {
   "cell_type": "code",
   "execution_count": 32,
   "id": "02a7bfdd",
   "metadata": {},
   "outputs": [
    {
     "data": {
      "text/plain": [
       "2022"
      ]
     },
     "execution_count": 32,
     "metadata": {},
     "output_type": "execute_result"
    }
   ],
   "source": [
    "int(a)"
   ]
  },
  {
   "cell_type": "code",
   "execution_count": 33,
   "id": "18b2deac",
   "metadata": {},
   "outputs": [
    {
     "data": {
      "text/plain": [
       "2022.0"
      ]
     },
     "execution_count": 33,
     "metadata": {},
     "output_type": "execute_result"
    }
   ],
   "source": [
    "float(a)"
   ]
  },
  {
   "cell_type": "markdown",
   "id": "b92cb345",
   "metadata": {},
   "source": [
    "But, when the strings would not be numbers then it will produce the `ValieError` like this"
   ]
  },
  {
   "cell_type": "code",
   "execution_count": 34,
   "id": "57c79bd0",
   "metadata": {},
   "outputs": [
    {
     "ename": "ValueError",
     "evalue": "invalid literal for int() with base 10: '1 1'",
     "output_type": "error",
     "traceback": [
      "\u001b[0;31m---------------------------------------------------------------------------\u001b[0m",
      "\u001b[0;31mValueError\u001b[0m                                Traceback (most recent call last)",
      "Cell \u001b[0;32mIn [34], line 2\u001b[0m\n\u001b[1;32m      1\u001b[0m a \u001b[38;5;241m=\u001b[39m \u001b[38;5;124m'\u001b[39m\u001b[38;5;124m1 1\u001b[39m\u001b[38;5;124m'\u001b[39m\n\u001b[0;32m----> 2\u001b[0m \u001b[38;5;28;43mint\u001b[39;49m\u001b[43m(\u001b[49m\u001b[43ma\u001b[49m\u001b[43m)\u001b[49m\n",
      "\u001b[0;31mValueError\u001b[0m: invalid literal for int() with base 10: '1 1'"
     ]
    }
   ],
   "source": [
    "a = '1 1'\n",
    "int(a)"
   ]
  },
  {
   "cell_type": "markdown",
   "id": "c728d4c3",
   "metadata": {},
   "source": [
    "That means this type of conversion is not allowed. In short, we can say that all float or int data types can be converted to a string, but all string data types can not be converted into int/float data types. \n",
    "\n",
    "Now, as we know the basic data types present in Python, let's understand the concept of expression and variables:\n",
    "\n",
    "### What are Expression and Variables in Python?\n",
    "\n",
    "**Expressions**\n",
    "\n",
    "Expressions are the operations that we want our computers to perform. For example, basic arithmetic operations like "
   ]
  },
  {
   "cell_type": "code",
   "execution_count": 35,
   "id": "efbe1f59",
   "metadata": {},
   "outputs": [
    {
     "data": {
      "text/plain": [
       "9.99"
      ]
     },
     "execution_count": 35,
     "metadata": {},
     "output_type": "execute_result"
    }
   ],
   "source": [
    "# Numbers are operands and mathematical symbols are operators\n",
    "5 + 4.99"
   ]
  },
  {
   "cell_type": "code",
   "execution_count": 36,
   "id": "c3a220f0",
   "metadata": {},
   "outputs": [
    {
     "data": {
      "text/plain": [
       "84"
      ]
     },
     "execution_count": 36,
     "metadata": {},
     "output_type": "execute_result"
    }
   ],
   "source": [
    "12*7"
   ]
  },
  {
   "cell_type": "code",
   "execution_count": 37,
   "id": "e5547253",
   "metadata": {},
   "outputs": [
    {
     "data": {
      "text/plain": [
       "2.0"
      ]
     },
     "execution_count": 37,
     "metadata": {},
     "output_type": "execute_result"
    }
   ],
   "source": [
    "# Division of integer data types results in a float value\n",
    "12/6"
   ]
  },
  {
   "cell_type": "code",
   "execution_count": 38,
   "id": "0e53d77f",
   "metadata": {},
   "outputs": [
    {
     "data": {
      "text/plain": [
       "13"
      ]
     },
     "execution_count": 38,
     "metadata": {},
     "output_type": "execute_result"
    }
   ],
   "source": [
    "# Python follows the mathematical conventions to perform\n",
    "# the  mathematical operations\n",
    "2 * 3 + 7"
   ]
  },
  {
   "cell_type": "code",
   "execution_count": 39,
   "id": "48b43896",
   "metadata": {},
   "outputs": [
    {
     "data": {
      "text/plain": [
       "23"
      ]
     },
     "execution_count": 39,
     "metadata": {},
     "output_type": "execute_result"
    }
   ],
   "source": [
    "2 + 3 * 7"
   ]
  },
  {
   "cell_type": "markdown",
   "id": "da33cf74",
   "metadata": {},
   "source": [
    "Similarly,expressions undert the parenthesis will be operated first.\n",
    "\n",
    "### Variables\n",
    "\n",
    "The variable is a kind of bucket in which we can store a data type. For example, in the below code snippet, we are treating `temp_variable` as a variable to store the value 6. Now this variable can be used somewhere else in the code, carrying the value of 6 with it."
   ]
  },
  {
   "cell_type": "code",
   "execution_count": 40,
   "id": "723692b0",
   "metadata": {},
   "outputs": [],
   "source": [
    "temp_variable = 6"
   ]
  },
  {
   "cell_type": "markdown",
   "id": "e93b6c02",
   "metadata": {},
   "source": [
    "The usefulness of the variables can be thought of as if we want to change a value from 6 to 7; then, if we have everywhere written 6, we will have to change it everywhere in the code. But if we have used a variable with a value of 6 and then used that variable everywhere else, we could change the value of that variable once,and it will reflect everywhere else"
   ]
  },
  {
   "cell_type": "code",
   "execution_count": null,
   "id": "d09722ce",
   "metadata": {},
   "outputs": [],
   "source": []
  }
 ],
 "metadata": {
  "kernelspec": {
   "display_name": "Python 3 (ipykernel)",
   "language": "python",
   "name": "python3"
  },
  "language_info": {
   "codemirror_mode": {
    "name": "ipython",
    "version": 3
   },
   "file_extension": ".py",
   "mimetype": "text/x-python",
   "name": "python",
   "nbconvert_exporter": "python",
   "pygments_lexer": "ipython3",
   "version": "3.10.6"
  }
 },
 "nbformat": 4,
 "nbformat_minor": 5
}
